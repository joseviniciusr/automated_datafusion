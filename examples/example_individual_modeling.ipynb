{
  "cells": [
    {
      "cell_type": "code",
      "execution_count": 32,
      "metadata": {
        "colab": {
          "base_uri": "https://localhost:8080/"
        },
        "id": "KB9JEf_ISswX",
        "outputId": "4e22d17b-330c-4cd3-f914-0adb8daf64cb"
      },
      "outputs": [],
      "source": [
        "# Example applying a multi-sensor spectral soil library (XRF, GRS, vis and NIR) for soil fertility attributes quantification (example for exCa)\n",
        "\n",
        "# instantiating the necessary libraries\n",
        "import numpy as np\n",
        "import pandas as pd\n",
        "pd.options.plotting.backend = 'plotly'\n",
        "\n",
        "#let's start by importing the data\n",
        "XXRF = pd.read_csv('datasets/XXRF.csv', header=0, sep=';')\n",
        "Y = pd.read_csv('datasets/Y.csv', header=0, sep=';')\n"
      ]
    },
    {
      "cell_type": "markdown",
      "metadata": {},
      "source": [
        "## **kennard-stone**"
      ]
    },
    {
      "cell_type": "code",
      "execution_count": 33,
      "metadata": {},
      "outputs": [
        {
          "name": "stdout",
          "output_type": "stream",
          "text": [
            "Calculating pairwise distances using scikit-learn.\n",
            "Calculating pairwise distances using scikit-learn.\n"
          ]
        },
        {
          "name": "stderr",
          "output_type": "stream",
          "text": [
            "c:\\Users\\Usuario\\AppData\\Local\\Programs\\Python\\Python313\\Lib\\site-packages\\sklearn\\utils\\deprecation.py:151: FutureWarning:\n",
            "\n",
            "'force_all_finite' was renamed to 'ensure_all_finite' in 1.6 and will be removed in 1.8.\n",
            "\n",
            "c:\\Users\\Usuario\\AppData\\Local\\Programs\\Python\\Python313\\Lib\\site-packages\\sklearn\\utils\\deprecation.py:151: FutureWarning:\n",
            "\n",
            "'force_all_finite' was renamed to 'ensure_all_finite' in 1.6 and will be removed in 1.8.\n",
            "\n",
            "c:\\Users\\Usuario\\AppData\\Local\\Programs\\Python\\Python313\\Lib\\site-packages\\sklearn\\utils\\deprecation.py:151: FutureWarning:\n",
            "\n",
            "'force_all_finite' was renamed to 'ensure_all_finite' in 1.6 and will be removed in 1.8.\n",
            "\n"
          ]
        }
      ],
      "source": [
        "# Applying the Kennard-Stone for splittng calibration and prediction sets\n",
        "import kennard_stone as ks\n",
        "\n",
        "Ycal, Ypred = ks.train_test_split(Y.drop(['Samples'], axis=1), test_size = 0.30)\n",
        "indices_cal = Ycal.index\n",
        "indices_pred = Ypred.index\n",
        "Ycal.insert(0, 'Samples', Y['Samples'].iloc[indices_cal])\n",
        "Ycal = Ycal.reset_index(drop=True)\n",
        "Ypred.insert(0, 'Samples', Y['Samples'].iloc[indices_pred])\n",
        "Ypred = Ypred.reset_index(drop=True)"
      ]
    },
    {
      "cell_type": "code",
      "execution_count": 34,
      "metadata": {},
      "outputs": [],
      "source": [
        "# Reproducing the same calibration and prediction splitting for each individual sensor dataset\n",
        "\n",
        "XcalXRF = XXRF.iloc[indices_cal].reset_index(drop=True)\n",
        "XpredXRF = XXRF.iloc[indices_pred].reset_index(drop=True)\n",
        "XcalNIR = XNIR.iloc[indices_cal].reset_index(drop=True)\n",
        "XpredNIR = XNIR.iloc[indices_pred].reset_index(drop=True)\n",
        "XcalGRS = XGRS.iloc[indices_cal].reset_index(drop=True)\n",
        "XpredGRS = XGRS.iloc[indices_pred].reset_index(drop=True)\n",
        "XcalNIX = XNIX.iloc[indices_cal].reset_index(drop=True)\n",
        "XpredNIX = XNIX.iloc[indices_pred].reset_index(drop=True)"
      ]
    },
    {
      "cell_type": "markdown",
      "metadata": {
        "id": "K2qeGlXcQuAt"
      },
      "source": [
        "# **preprocessings**"
      ]
    },
    {
      "cell_type": "code",
      "execution_count": 35,
      "metadata": {
        "id": "0sz7nH60QrHj"
      },
      "outputs": [],
      "source": [
        "import preprocessings as prepr # poisson scaling by particular library\n",
        "\n",
        "XcalXRF_pre, meancal_xrf, meancalpoisson_xrf = prepr.poisson(XcalXRF, mc=True)\n",
        "XpredXRF_pre = (XpredXRF / np.sqrt(meancal_xrf)) - meancalpoisson_xrf"
      ]
    },
    {
      "cell_type": "code",
      "execution_count": 36,
      "metadata": {
        "id": "UjT64rjYTDeT"
      },
      "outputs": [],
      "source": [
        "from scipy.signal import savgol_filter # SAVGOL smoothing\n",
        "\n",
        "XcalNIR_pre = pd.DataFrame(savgol_filter(XcalNIR,\n",
        "                                        window_length=11,\n",
        "                                        polyorder=1,\n",
        "                                        deriv=1))\n",
        "\n",
        "XpredNIR_pre = pd.DataFrame(savgol_filter(XpredNIR,\n",
        "                                        window_length=11,\n",
        "                                        polyorder=1,\n",
        "                                        deriv=1))\n",
        "\n",
        "XcalNIR_pre, meancal_nir = prepr.mc(XcalNIR_pre)\n",
        "XpredNIR_pre = XpredNIR_pre - meancal_nir"
      ]
    },
    {
      "cell_type": "code",
      "execution_count": 37,
      "metadata": {},
      "outputs": [],
      "source": [
        "XcalNIX_pre = pd.DataFrame(savgol_filter(XcalNIX,\n",
        "                                        window_length=3,\n",
        "                                        polyorder=1,\n",
        "                                        deriv=1))\n",
        "\n",
        "XpredNIX_pre = pd.DataFrame(savgol_filter(XpredNIX,\n",
        "                                        window_length=3,\n",
        "                                        polyorder=1,\n",
        "                                        deriv=1))\n",
        "\n",
        "XcalNIX_pre, meancal_nix = prepr.mc(XcalNIX_pre)\n",
        "XpredNIX_pre = XpredNIX_pre - meancal_nix"
      ]
    },
    {
      "cell_type": "code",
      "execution_count": 38,
      "metadata": {},
      "outputs": [],
      "source": [
        "XcalGRS_pre = pd.DataFrame(savgol_filter(XcalGRS,\n",
        "                                        window_length=11,\n",
        "                                        polyorder=1,\n",
        "                                        deriv=1))\n",
        "\n",
        "XpredGRS_pre = pd.DataFrame(savgol_filter(XpredGRS,\n",
        "                                        window_length=11,\n",
        "                                        polyorder=1,\n",
        "                                        deriv=1))\n",
        "\n",
        "XcalGRS_pre, meancal_grs = prepr.mc(XcalGRS_pre)\n",
        "XpredGRS_pre = XpredGRS_pre - meancal_grs"
      ]
    },
    {
      "cell_type": "markdown",
      "metadata": {},
      "source": [
        "# **individual models**\n",
        "\n",
        "Let's test individual modeling by comparing models based on XRF spectral signatures. <br> We can choose between model=**'pls'** (set the number of LVs), **'rf**' (set the random seed) or **'svm'** (set the kernel). Additionally, if **LVscores = True**, the LV scores are also extracted."
      ]
    },
    {
      "cell_type": "code",
      "execution_count": 39,
      "metadata": {},
      "outputs": [
        {
          "data": {
            "application/vnd.microsoft.datawrangler.viewer.v0+json": {
              "columns": [
                {
                  "name": "index",
                  "rawType": "int64",
                  "type": "integer"
                },
                {
                  "name": "LVs number",
                  "rawType": "int64",
                  "type": "integer"
                },
                {
                  "name": "R2 Cal",
                  "rawType": "float64",
                  "type": "float"
                },
                {
                  "name": "r2 Cal",
                  "rawType": "float64",
                  "type": "float"
                },
                {
                  "name": "RMSEC",
                  "rawType": "float64",
                  "type": "float"
                },
                {
                  "name": "R2 CV",
                  "rawType": "float64",
                  "type": "float"
                },
                {
                  "name": "r2 CV",
                  "rawType": "float64",
                  "type": "float"
                },
                {
                  "name": "RMSECV",
                  "rawType": "float64",
                  "type": "float"
                },
                {
                  "name": "Bias CV",
                  "rawType": "float64",
                  "type": "float"
                },
                {
                  "name": "tbias CV",
                  "rawType": "float64",
                  "type": "float"
                },
                {
                  "name": "RPD CV",
                  "rawType": "float64",
                  "type": "float"
                },
                {
                  "name": "RPIQ CV",
                  "rawType": "float64",
                  "type": "float"
                },
                {
                  "name": "R2 Pred",
                  "rawType": "float64",
                  "type": "float"
                },
                {
                  "name": "r2 Pred",
                  "rawType": "float64",
                  "type": "float"
                },
                {
                  "name": "RMSEP",
                  "rawType": "float64",
                  "type": "float"
                },
                {
                  "name": "Bias Pred",
                  "rawType": "float64",
                  "type": "float"
                },
                {
                  "name": "tbias Pred",
                  "rawType": "float64",
                  "type": "float"
                },
                {
                  "name": "RPD Pred",
                  "rawType": "float64",
                  "type": "float"
                },
                {
                  "name": "RPIQ Pred",
                  "rawType": "float64",
                  "type": "float"
                }
              ],
              "conversionMethod": "pd.DataFrame",
              "ref": "af1a7f85-e941-46da-9354-2e5ae2f73ac4",
              "rows": [
                [
                  "0",
                  "1",
                  "0.5972039507284843",
                  "0.5972039507284843",
                  "1.2230431333427592",
                  "0.49497264989896594",
                  "0.4951119109747112",
                  "1.3694829248128761",
                  "0.022517099928368707",
                  "0.12195395521653563",
                  "1.419891697062275",
                  "1.9113053201139045",
                  "0.5702559029641512",
                  "0.6409799789872406",
                  "0.9921972159879137",
                  "-0.030270376206382444",
                  "0.14638141446106354",
                  "1.558248591052965",
                  "1.977933387009127"
                ],
                [
                  "1",
                  "2",
                  "0.6260627390864031",
                  "0.6260627390864032",
                  "1.1784157646950588",
                  "0.31119421906306477",
                  "0.435250172777922",
                  "1.5993649131419414",
                  "-0.09249935814522929",
                  "0.42963539359142666",
                  "1.215805985383518",
                  "1.6365871093532618",
                  "0.6570895594429882",
                  "0.7557854231238545",
                  "0.8863054059617018",
                  "-0.020248665480562006",
                  "0.10959488725927323",
                  "1.7444211706936708",
                  "2.214248030982677"
                ],
                [
                  "2",
                  "3",
                  "0.6705717858223266",
                  "0.6705717858223261",
                  "1.1060622461026595",
                  "0.2563127027610813",
                  "0.42317881959053655",
                  "1.6618596921432183",
                  "-0.13977168046711788",
                  "0.6259615839967992",
                  "1.1700852023810835",
                  "1.5750427141200714",
                  "0.7061155521778435",
                  "0.8410847905986875",
                  "0.82050521592371",
                  "-0.12724319108970972",
                  "0.7528409479947772",
                  "1.8843145465190991",
                  "2.391819042601275"
                ]
              ],
              "shape": {
                "columns": 18,
                "rows": 3
              }
            },
            "text/html": [
              "<div>\n",
              "<style scoped>\n",
              "    .dataframe tbody tr th:only-of-type {\n",
              "        vertical-align: middle;\n",
              "    }\n",
              "\n",
              "    .dataframe tbody tr th {\n",
              "        vertical-align: top;\n",
              "    }\n",
              "\n",
              "    .dataframe thead th {\n",
              "        text-align: right;\n",
              "    }\n",
              "</style>\n",
              "<table border=\"1\" class=\"dataframe\">\n",
              "  <thead>\n",
              "    <tr style=\"text-align: right;\">\n",
              "      <th></th>\n",
              "      <th>LVs number</th>\n",
              "      <th>R2 Cal</th>\n",
              "      <th>r2 Cal</th>\n",
              "      <th>RMSEC</th>\n",
              "      <th>R2 CV</th>\n",
              "      <th>r2 CV</th>\n",
              "      <th>RMSECV</th>\n",
              "      <th>Bias CV</th>\n",
              "      <th>tbias CV</th>\n",
              "      <th>RPD CV</th>\n",
              "      <th>RPIQ CV</th>\n",
              "      <th>R2 Pred</th>\n",
              "      <th>r2 Pred</th>\n",
              "      <th>RMSEP</th>\n",
              "      <th>Bias Pred</th>\n",
              "      <th>tbias Pred</th>\n",
              "      <th>RPD Pred</th>\n",
              "      <th>RPIQ Pred</th>\n",
              "    </tr>\n",
              "  </thead>\n",
              "  <tbody>\n",
              "    <tr>\n",
              "      <th>0</th>\n",
              "      <td>1</td>\n",
              "      <td>0.597204</td>\n",
              "      <td>0.597204</td>\n",
              "      <td>1.223043</td>\n",
              "      <td>0.494973</td>\n",
              "      <td>0.495112</td>\n",
              "      <td>1.369483</td>\n",
              "      <td>0.022517</td>\n",
              "      <td>0.121954</td>\n",
              "      <td>1.419892</td>\n",
              "      <td>1.911305</td>\n",
              "      <td>0.570256</td>\n",
              "      <td>0.640980</td>\n",
              "      <td>0.992197</td>\n",
              "      <td>-0.030270</td>\n",
              "      <td>0.146381</td>\n",
              "      <td>1.558249</td>\n",
              "      <td>1.977933</td>\n",
              "    </tr>\n",
              "    <tr>\n",
              "      <th>1</th>\n",
              "      <td>2</td>\n",
              "      <td>0.626063</td>\n",
              "      <td>0.626063</td>\n",
              "      <td>1.178416</td>\n",
              "      <td>0.311194</td>\n",
              "      <td>0.435250</td>\n",
              "      <td>1.599365</td>\n",
              "      <td>-0.092499</td>\n",
              "      <td>0.429635</td>\n",
              "      <td>1.215806</td>\n",
              "      <td>1.636587</td>\n",
              "      <td>0.657090</td>\n",
              "      <td>0.755785</td>\n",
              "      <td>0.886305</td>\n",
              "      <td>-0.020249</td>\n",
              "      <td>0.109595</td>\n",
              "      <td>1.744421</td>\n",
              "      <td>2.214248</td>\n",
              "    </tr>\n",
              "    <tr>\n",
              "      <th>2</th>\n",
              "      <td>3</td>\n",
              "      <td>0.670572</td>\n",
              "      <td>0.670572</td>\n",
              "      <td>1.106062</td>\n",
              "      <td>0.256313</td>\n",
              "      <td>0.423179</td>\n",
              "      <td>1.661860</td>\n",
              "      <td>-0.139772</td>\n",
              "      <td>0.625962</td>\n",
              "      <td>1.170085</td>\n",
              "      <td>1.575043</td>\n",
              "      <td>0.706116</td>\n",
              "      <td>0.841085</td>\n",
              "      <td>0.820505</td>\n",
              "      <td>-0.127243</td>\n",
              "      <td>0.752841</td>\n",
              "      <td>1.884315</td>\n",
              "      <td>2.391819</td>\n",
              "    </tr>\n",
              "  </tbody>\n",
              "</table>\n",
              "</div>"
            ],
            "text/plain": [
              "   LVs number    R2 Cal    r2 Cal     RMSEC     R2 CV     r2 CV    RMSECV  \\\n",
              "0           1  0.597204  0.597204  1.223043  0.494973  0.495112  1.369483   \n",
              "1           2  0.626063  0.626063  1.178416  0.311194  0.435250  1.599365   \n",
              "2           3  0.670572  0.670572  1.106062  0.256313  0.423179  1.661860   \n",
              "\n",
              "    Bias CV  tbias CV    RPD CV   RPIQ CV   R2 Pred   r2 Pred     RMSEP  \\\n",
              "0  0.022517  0.121954  1.419892  1.911305  0.570256  0.640980  0.992197   \n",
              "1 -0.092499  0.429635  1.215806  1.636587  0.657090  0.755785  0.886305   \n",
              "2 -0.139772  0.625962  1.170085  1.575043  0.706116  0.841085  0.820505   \n",
              "\n",
              "   Bias Pred  tbias Pred  RPD Pred  RPIQ Pred  \n",
              "0  -0.030270    0.146381  1.558249   1.977933  \n",
              "1  -0.020249    0.109595  1.744421   2.214248  \n",
              "2  -0.127243    0.752841  1.884315   2.391819  "
            ]
          },
          "execution_count": 39,
          "metadata": {},
          "output_type": "execute_result"
        }
      ],
      "source": [
        "import automated_datafusion as df\n",
        "overview_xrf_pls, calres_xrf_pls, predres_xrf_pls = df.modelo_individual_otimizado(Xcal=XcalXRF_pre,\n",
        "                                   ycal=Ycal, \n",
        "                                   Xpred=XpredXRF_pre, \n",
        "                                   ypred=Ypred,\n",
        "                                   model='pls', # by using PLS\n",
        "                                   maxLV=3,\n",
        "                                   target='exCa')                    \n",
        "overview_xrf_pls"
      ]
    },
    {
      "cell_type": "code",
      "execution_count": 40,
      "metadata": {},
      "outputs": [
        {
          "data": {
            "application/vnd.microsoft.datawrangler.viewer.v0+json": {
              "columns": [
                {
                  "name": "index",
                  "rawType": "int64",
                  "type": "integer"
                },
                {
                  "name": "Model",
                  "rawType": "object",
                  "type": "string"
                },
                {
                  "name": "R2 Cal",
                  "rawType": "float64",
                  "type": "float"
                },
                {
                  "name": "r2 Cal",
                  "rawType": "float64",
                  "type": "float"
                },
                {
                  "name": "RMSEC",
                  "rawType": "float64",
                  "type": "float"
                },
                {
                  "name": "R2 Pred",
                  "rawType": "float64",
                  "type": "float"
                },
                {
                  "name": "r2 Pred",
                  "rawType": "float64",
                  "type": "float"
                },
                {
                  "name": "RMSEP",
                  "rawType": "float64",
                  "type": "float"
                },
                {
                  "name": "Bias Pred",
                  "rawType": "float64",
                  "type": "float"
                },
                {
                  "name": "tbias Pred",
                  "rawType": "float64",
                  "type": "float"
                },
                {
                  "name": "RPD Pred",
                  "rawType": "float64",
                  "type": "float"
                },
                {
                  "name": "RPIQ Pred",
                  "rawType": "float64",
                  "type": "float"
                }
              ],
              "conversionMethod": "pd.DataFrame",
              "ref": "f37e702c-de92-4a16-a354-6b7aeb714188",
              "rows": [
                [
                  "0",
                  "RF",
                  "0.9624027838655473",
                  "0.9706826055654053",
                  "0.37366035069106873",
                  "0.6500852736439446",
                  "0.7604320333584897",
                  "0.8953114823438071",
                  "-0.49625416666666533",
                  "3.1937329281759967",
                  "1.72687376890597",
                  "2.191974568294863"
                ]
              ],
              "shape": {
                "columns": 11,
                "rows": 1
              }
            },
            "text/html": [
              "<div>\n",
              "<style scoped>\n",
              "    .dataframe tbody tr th:only-of-type {\n",
              "        vertical-align: middle;\n",
              "    }\n",
              "\n",
              "    .dataframe tbody tr th {\n",
              "        vertical-align: top;\n",
              "    }\n",
              "\n",
              "    .dataframe thead th {\n",
              "        text-align: right;\n",
              "    }\n",
              "</style>\n",
              "<table border=\"1\" class=\"dataframe\">\n",
              "  <thead>\n",
              "    <tr style=\"text-align: right;\">\n",
              "      <th></th>\n",
              "      <th>Model</th>\n",
              "      <th>R2 Cal</th>\n",
              "      <th>r2 Cal</th>\n",
              "      <th>RMSEC</th>\n",
              "      <th>R2 Pred</th>\n",
              "      <th>r2 Pred</th>\n",
              "      <th>RMSEP</th>\n",
              "      <th>Bias Pred</th>\n",
              "      <th>tbias Pred</th>\n",
              "      <th>RPD Pred</th>\n",
              "      <th>RPIQ Pred</th>\n",
              "    </tr>\n",
              "  </thead>\n",
              "  <tbody>\n",
              "    <tr>\n",
              "      <th>0</th>\n",
              "      <td>RF</td>\n",
              "      <td>0.962403</td>\n",
              "      <td>0.970683</td>\n",
              "      <td>0.37366</td>\n",
              "      <td>0.650085</td>\n",
              "      <td>0.760432</td>\n",
              "      <td>0.895311</td>\n",
              "      <td>-0.496254</td>\n",
              "      <td>3.193733</td>\n",
              "      <td>1.726874</td>\n",
              "      <td>2.191975</td>\n",
              "    </tr>\n",
              "  </tbody>\n",
              "</table>\n",
              "</div>"
            ],
            "text/plain": [
              "  Model    R2 Cal    r2 Cal    RMSEC   R2 Pred   r2 Pred     RMSEP  Bias Pred  \\\n",
              "0    RF  0.962403  0.970683  0.37366  0.650085  0.760432  0.895311  -0.496254   \n",
              "\n",
              "   tbias Pred  RPD Pred  RPIQ Pred  \n",
              "0    3.193733  1.726874   2.191975  "
            ]
          },
          "execution_count": 40,
          "metadata": {},
          "output_type": "execute_result"
        }
      ],
      "source": [
        "import automated_datafusion as df\n",
        "overview_xrf_rf, calres_xrf_rf, predres_xrf_rf = df.modelo_individual_otimizado(Xcal=XcalXRF_pre,\n",
        "                                   ycal=Ycal, \n",
        "                                   Xpred=XpredXRF_pre, \n",
        "                                   ypred=Ypred,\n",
        "                                   model='rf', # by using RF\n",
        "                                   target='exCa',\n",
        "                                   random_seed=1)                    \n",
        "overview_xrf_rf"
      ]
    },
    {
      "cell_type": "code",
      "execution_count": 41,
      "metadata": {},
      "outputs": [
        {
          "data": {
            "application/vnd.microsoft.datawrangler.viewer.v0+json": {
              "columns": [
                {
                  "name": "index",
                  "rawType": "int64",
                  "type": "integer"
                },
                {
                  "name": "Model",
                  "rawType": "object",
                  "type": "string"
                },
                {
                  "name": "R2 Cal",
                  "rawType": "float64",
                  "type": "float"
                },
                {
                  "name": "r2 Cal",
                  "rawType": "float64",
                  "type": "float"
                },
                {
                  "name": "RMSEC",
                  "rawType": "float64",
                  "type": "float"
                },
                {
                  "name": "R2 Pred",
                  "rawType": "float64",
                  "type": "float"
                },
                {
                  "name": "r2 Pred",
                  "rawType": "float64",
                  "type": "float"
                },
                {
                  "name": "RMSEP",
                  "rawType": "float64",
                  "type": "float"
                },
                {
                  "name": "Bias Pred",
                  "rawType": "float64",
                  "type": "float"
                },
                {
                  "name": "tbias Pred",
                  "rawType": "float64",
                  "type": "float"
                },
                {
                  "name": "RPD Pred",
                  "rawType": "float64",
                  "type": "float"
                },
                {
                  "name": "RPIQ Pred",
                  "rawType": "float64",
                  "type": "float"
                }
              ],
              "conversionMethod": "pd.DataFrame",
              "ref": "c8f90754-299f-4ca2-beb6-4b0e6eb3a96c",
              "rows": [
                [
                  "0",
                  "SVM",
                  "0.9493217656546632",
                  "0.9496412210444779",
                  "0.4338203398895808",
                  "0.6473750539391632",
                  "0.6905602266936326",
                  "0.8987720546329188",
                  "-0.27600487800140466",
                  "1.5475336925970988",
                  "1.7202247287175647",
                  "2.1835347348461283"
                ]
              ],
              "shape": {
                "columns": 11,
                "rows": 1
              }
            },
            "text/html": [
              "<div>\n",
              "<style scoped>\n",
              "    .dataframe tbody tr th:only-of-type {\n",
              "        vertical-align: middle;\n",
              "    }\n",
              "\n",
              "    .dataframe tbody tr th {\n",
              "        vertical-align: top;\n",
              "    }\n",
              "\n",
              "    .dataframe thead th {\n",
              "        text-align: right;\n",
              "    }\n",
              "</style>\n",
              "<table border=\"1\" class=\"dataframe\">\n",
              "  <thead>\n",
              "    <tr style=\"text-align: right;\">\n",
              "      <th></th>\n",
              "      <th>Model</th>\n",
              "      <th>R2 Cal</th>\n",
              "      <th>r2 Cal</th>\n",
              "      <th>RMSEC</th>\n",
              "      <th>R2 Pred</th>\n",
              "      <th>r2 Pred</th>\n",
              "      <th>RMSEP</th>\n",
              "      <th>Bias Pred</th>\n",
              "      <th>tbias Pred</th>\n",
              "      <th>RPD Pred</th>\n",
              "      <th>RPIQ Pred</th>\n",
              "    </tr>\n",
              "  </thead>\n",
              "  <tbody>\n",
              "    <tr>\n",
              "      <th>0</th>\n",
              "      <td>SVM</td>\n",
              "      <td>0.949322</td>\n",
              "      <td>0.949641</td>\n",
              "      <td>0.43382</td>\n",
              "      <td>0.647375</td>\n",
              "      <td>0.69056</td>\n",
              "      <td>0.898772</td>\n",
              "      <td>-0.276005</td>\n",
              "      <td>1.547534</td>\n",
              "      <td>1.720225</td>\n",
              "      <td>2.183535</td>\n",
              "    </tr>\n",
              "  </tbody>\n",
              "</table>\n",
              "</div>"
            ],
            "text/plain": [
              "  Model    R2 Cal    r2 Cal    RMSEC   R2 Pred  r2 Pred     RMSEP  Bias Pred  \\\n",
              "0   SVM  0.949322  0.949641  0.43382  0.647375  0.69056  0.898772  -0.276005   \n",
              "\n",
              "   tbias Pred  RPD Pred  RPIQ Pred  \n",
              "0    1.547534  1.720225   2.183535  "
            ]
          },
          "execution_count": 41,
          "metadata": {},
          "output_type": "execute_result"
        }
      ],
      "source": [
        "import automated_datafusion as df\n",
        "overview_xrf_svm, calres_xrf_svm, predres_xrf_svm = df.modelo_individual_otimizado(Xcal=XcalXRF_pre,\n",
        "                                   ycal=Ycal, \n",
        "                                   Xpred=XpredXRF_pre, \n",
        "                                   ypred=Ypred,\n",
        "                                   model='svm', # by using svm\n",
        "                                   target='exCa',\n",
        "                                   kern='linear')                    \n",
        "overview_xrf_svm"
      ]
    },
    {
      "cell_type": "code",
      "execution_count": 42,
      "metadata": {},
      "outputs": [
        {
          "data": {
            "application/vnd.plotly.v1+json": {
              "config": {
                "plotlyServerURL": "https://plot.ly"
              },
              "data": [
                {
                  "line": {
                    "width": 2
                  },
                  "marker": {
                    "size": 20,
                    "symbol": "circle"
                  },
                  "mode": "lines+markers",
                  "name": "SVM",
                  "type": "scatter",
                  "x": [
                    "SVM"
                  ],
                  "y": [
                    0.8987720546329188
                  ]
                },
                {
                  "line": {
                    "width": 2
                  },
                  "marker": {
                    "size": 20,
                    "symbol": "circle"
                  },
                  "mode": "lines+markers",
                  "name": "RF",
                  "type": "scatter",
                  "x": [
                    "RF"
                  ],
                  "y": [
                    0.8953114823438071
                  ]
                },
                {
                  "line": {
                    "width": 2
                  },
                  "marker": {
                    "size": 20,
                    "symbol": "circle"
                  },
                  "mode": "lines+markers",
                  "name": "PLS",
                  "type": "scatter",
                  "x": [
                    "PLS"
                  ],
                  "y": [
                    0.82050521592371
                  ]
                },
                {
                  "line": {
                    "dash": "dash",
                    "width": 3
                  },
                  "mode": "lines",
                  "name": "Line",
                  "type": "scatter",
                  "x": [
                    "SVM",
                    "RF",
                    "PLS"
                  ],
                  "y": [
                    0.8987720546329188,
                    0.8953114823438071,
                    0.82050521592371
                  ]
                }
              ],
              "layout": {
                "template": {
                  "data": {
                    "bar": [
                      {
                        "error_x": {
                          "color": "#2a3f5f"
                        },
                        "error_y": {
                          "color": "#2a3f5f"
                        },
                        "marker": {
                          "line": {
                            "color": "#E5ECF6",
                            "width": 0.5
                          },
                          "pattern": {
                            "fillmode": "overlay",
                            "size": 10,
                            "solidity": 0.2
                          }
                        },
                        "type": "bar"
                      }
                    ],
                    "barpolar": [
                      {
                        "marker": {
                          "line": {
                            "color": "#E5ECF6",
                            "width": 0.5
                          },
                          "pattern": {
                            "fillmode": "overlay",
                            "size": 10,
                            "solidity": 0.2
                          }
                        },
                        "type": "barpolar"
                      }
                    ],
                    "carpet": [
                      {
                        "aaxis": {
                          "endlinecolor": "#2a3f5f",
                          "gridcolor": "white",
                          "linecolor": "white",
                          "minorgridcolor": "white",
                          "startlinecolor": "#2a3f5f"
                        },
                        "baxis": {
                          "endlinecolor": "#2a3f5f",
                          "gridcolor": "white",
                          "linecolor": "white",
                          "minorgridcolor": "white",
                          "startlinecolor": "#2a3f5f"
                        },
                        "type": "carpet"
                      }
                    ],
                    "choropleth": [
                      {
                        "colorbar": {
                          "outlinewidth": 0,
                          "ticks": ""
                        },
                        "type": "choropleth"
                      }
                    ],
                    "contour": [
                      {
                        "colorbar": {
                          "outlinewidth": 0,
                          "ticks": ""
                        },
                        "colorscale": [
                          [
                            0,
                            "#0d0887"
                          ],
                          [
                            0.1111111111111111,
                            "#46039f"
                          ],
                          [
                            0.2222222222222222,
                            "#7201a8"
                          ],
                          [
                            0.3333333333333333,
                            "#9c179e"
                          ],
                          [
                            0.4444444444444444,
                            "#bd3786"
                          ],
                          [
                            0.5555555555555556,
                            "#d8576b"
                          ],
                          [
                            0.6666666666666666,
                            "#ed7953"
                          ],
                          [
                            0.7777777777777778,
                            "#fb9f3a"
                          ],
                          [
                            0.8888888888888888,
                            "#fdca26"
                          ],
                          [
                            1,
                            "#f0f921"
                          ]
                        ],
                        "type": "contour"
                      }
                    ],
                    "contourcarpet": [
                      {
                        "colorbar": {
                          "outlinewidth": 0,
                          "ticks": ""
                        },
                        "type": "contourcarpet"
                      }
                    ],
                    "heatmap": [
                      {
                        "colorbar": {
                          "outlinewidth": 0,
                          "ticks": ""
                        },
                        "colorscale": [
                          [
                            0,
                            "#0d0887"
                          ],
                          [
                            0.1111111111111111,
                            "#46039f"
                          ],
                          [
                            0.2222222222222222,
                            "#7201a8"
                          ],
                          [
                            0.3333333333333333,
                            "#9c179e"
                          ],
                          [
                            0.4444444444444444,
                            "#bd3786"
                          ],
                          [
                            0.5555555555555556,
                            "#d8576b"
                          ],
                          [
                            0.6666666666666666,
                            "#ed7953"
                          ],
                          [
                            0.7777777777777778,
                            "#fb9f3a"
                          ],
                          [
                            0.8888888888888888,
                            "#fdca26"
                          ],
                          [
                            1,
                            "#f0f921"
                          ]
                        ],
                        "type": "heatmap"
                      }
                    ],
                    "heatmapgl": [
                      {
                        "colorbar": {
                          "outlinewidth": 0,
                          "ticks": ""
                        },
                        "colorscale": [
                          [
                            0,
                            "#0d0887"
                          ],
                          [
                            0.1111111111111111,
                            "#46039f"
                          ],
                          [
                            0.2222222222222222,
                            "#7201a8"
                          ],
                          [
                            0.3333333333333333,
                            "#9c179e"
                          ],
                          [
                            0.4444444444444444,
                            "#bd3786"
                          ],
                          [
                            0.5555555555555556,
                            "#d8576b"
                          ],
                          [
                            0.6666666666666666,
                            "#ed7953"
                          ],
                          [
                            0.7777777777777778,
                            "#fb9f3a"
                          ],
                          [
                            0.8888888888888888,
                            "#fdca26"
                          ],
                          [
                            1,
                            "#f0f921"
                          ]
                        ],
                        "type": "heatmapgl"
                      }
                    ],
                    "histogram": [
                      {
                        "marker": {
                          "pattern": {
                            "fillmode": "overlay",
                            "size": 10,
                            "solidity": 0.2
                          }
                        },
                        "type": "histogram"
                      }
                    ],
                    "histogram2d": [
                      {
                        "colorbar": {
                          "outlinewidth": 0,
                          "ticks": ""
                        },
                        "colorscale": [
                          [
                            0,
                            "#0d0887"
                          ],
                          [
                            0.1111111111111111,
                            "#46039f"
                          ],
                          [
                            0.2222222222222222,
                            "#7201a8"
                          ],
                          [
                            0.3333333333333333,
                            "#9c179e"
                          ],
                          [
                            0.4444444444444444,
                            "#bd3786"
                          ],
                          [
                            0.5555555555555556,
                            "#d8576b"
                          ],
                          [
                            0.6666666666666666,
                            "#ed7953"
                          ],
                          [
                            0.7777777777777778,
                            "#fb9f3a"
                          ],
                          [
                            0.8888888888888888,
                            "#fdca26"
                          ],
                          [
                            1,
                            "#f0f921"
                          ]
                        ],
                        "type": "histogram2d"
                      }
                    ],
                    "histogram2dcontour": [
                      {
                        "colorbar": {
                          "outlinewidth": 0,
                          "ticks": ""
                        },
                        "colorscale": [
                          [
                            0,
                            "#0d0887"
                          ],
                          [
                            0.1111111111111111,
                            "#46039f"
                          ],
                          [
                            0.2222222222222222,
                            "#7201a8"
                          ],
                          [
                            0.3333333333333333,
                            "#9c179e"
                          ],
                          [
                            0.4444444444444444,
                            "#bd3786"
                          ],
                          [
                            0.5555555555555556,
                            "#d8576b"
                          ],
                          [
                            0.6666666666666666,
                            "#ed7953"
                          ],
                          [
                            0.7777777777777778,
                            "#fb9f3a"
                          ],
                          [
                            0.8888888888888888,
                            "#fdca26"
                          ],
                          [
                            1,
                            "#f0f921"
                          ]
                        ],
                        "type": "histogram2dcontour"
                      }
                    ],
                    "mesh3d": [
                      {
                        "colorbar": {
                          "outlinewidth": 0,
                          "ticks": ""
                        },
                        "type": "mesh3d"
                      }
                    ],
                    "parcoords": [
                      {
                        "line": {
                          "colorbar": {
                            "outlinewidth": 0,
                            "ticks": ""
                          }
                        },
                        "type": "parcoords"
                      }
                    ],
                    "pie": [
                      {
                        "automargin": true,
                        "type": "pie"
                      }
                    ],
                    "scatter": [
                      {
                        "fillpattern": {
                          "fillmode": "overlay",
                          "size": 10,
                          "solidity": 0.2
                        },
                        "type": "scatter"
                      }
                    ],
                    "scatter3d": [
                      {
                        "line": {
                          "colorbar": {
                            "outlinewidth": 0,
                            "ticks": ""
                          }
                        },
                        "marker": {
                          "colorbar": {
                            "outlinewidth": 0,
                            "ticks": ""
                          }
                        },
                        "type": "scatter3d"
                      }
                    ],
                    "scattercarpet": [
                      {
                        "marker": {
                          "colorbar": {
                            "outlinewidth": 0,
                            "ticks": ""
                          }
                        },
                        "type": "scattercarpet"
                      }
                    ],
                    "scattergeo": [
                      {
                        "marker": {
                          "colorbar": {
                            "outlinewidth": 0,
                            "ticks": ""
                          }
                        },
                        "type": "scattergeo"
                      }
                    ],
                    "scattergl": [
                      {
                        "marker": {
                          "colorbar": {
                            "outlinewidth": 0,
                            "ticks": ""
                          }
                        },
                        "type": "scattergl"
                      }
                    ],
                    "scattermapbox": [
                      {
                        "marker": {
                          "colorbar": {
                            "outlinewidth": 0,
                            "ticks": ""
                          }
                        },
                        "type": "scattermapbox"
                      }
                    ],
                    "scatterpolar": [
                      {
                        "marker": {
                          "colorbar": {
                            "outlinewidth": 0,
                            "ticks": ""
                          }
                        },
                        "type": "scatterpolar"
                      }
                    ],
                    "scatterpolargl": [
                      {
                        "marker": {
                          "colorbar": {
                            "outlinewidth": 0,
                            "ticks": ""
                          }
                        },
                        "type": "scatterpolargl"
                      }
                    ],
                    "scatterternary": [
                      {
                        "marker": {
                          "colorbar": {
                            "outlinewidth": 0,
                            "ticks": ""
                          }
                        },
                        "type": "scatterternary"
                      }
                    ],
                    "surface": [
                      {
                        "colorbar": {
                          "outlinewidth": 0,
                          "ticks": ""
                        },
                        "colorscale": [
                          [
                            0,
                            "#0d0887"
                          ],
                          [
                            0.1111111111111111,
                            "#46039f"
                          ],
                          [
                            0.2222222222222222,
                            "#7201a8"
                          ],
                          [
                            0.3333333333333333,
                            "#9c179e"
                          ],
                          [
                            0.4444444444444444,
                            "#bd3786"
                          ],
                          [
                            0.5555555555555556,
                            "#d8576b"
                          ],
                          [
                            0.6666666666666666,
                            "#ed7953"
                          ],
                          [
                            0.7777777777777778,
                            "#fb9f3a"
                          ],
                          [
                            0.8888888888888888,
                            "#fdca26"
                          ],
                          [
                            1,
                            "#f0f921"
                          ]
                        ],
                        "type": "surface"
                      }
                    ],
                    "table": [
                      {
                        "cells": {
                          "fill": {
                            "color": "#EBF0F8"
                          },
                          "line": {
                            "color": "white"
                          }
                        },
                        "header": {
                          "fill": {
                            "color": "#C8D4E3"
                          },
                          "line": {
                            "color": "white"
                          }
                        },
                        "type": "table"
                      }
                    ]
                  },
                  "layout": {
                    "annotationdefaults": {
                      "arrowcolor": "#2a3f5f",
                      "arrowhead": 0,
                      "arrowwidth": 1
                    },
                    "autotypenumbers": "strict",
                    "coloraxis": {
                      "colorbar": {
                        "outlinewidth": 0,
                        "ticks": ""
                      }
                    },
                    "colorscale": {
                      "diverging": [
                        [
                          0,
                          "#8e0152"
                        ],
                        [
                          0.1,
                          "#c51b7d"
                        ],
                        [
                          0.2,
                          "#de77ae"
                        ],
                        [
                          0.3,
                          "#f1b6da"
                        ],
                        [
                          0.4,
                          "#fde0ef"
                        ],
                        [
                          0.5,
                          "#f7f7f7"
                        ],
                        [
                          0.6,
                          "#e6f5d0"
                        ],
                        [
                          0.7,
                          "#b8e186"
                        ],
                        [
                          0.8,
                          "#7fbc41"
                        ],
                        [
                          0.9,
                          "#4d9221"
                        ],
                        [
                          1,
                          "#276419"
                        ]
                      ],
                      "sequential": [
                        [
                          0,
                          "#0d0887"
                        ],
                        [
                          0.1111111111111111,
                          "#46039f"
                        ],
                        [
                          0.2222222222222222,
                          "#7201a8"
                        ],
                        [
                          0.3333333333333333,
                          "#9c179e"
                        ],
                        [
                          0.4444444444444444,
                          "#bd3786"
                        ],
                        [
                          0.5555555555555556,
                          "#d8576b"
                        ],
                        [
                          0.6666666666666666,
                          "#ed7953"
                        ],
                        [
                          0.7777777777777778,
                          "#fb9f3a"
                        ],
                        [
                          0.8888888888888888,
                          "#fdca26"
                        ],
                        [
                          1,
                          "#f0f921"
                        ]
                      ],
                      "sequentialminus": [
                        [
                          0,
                          "#0d0887"
                        ],
                        [
                          0.1111111111111111,
                          "#46039f"
                        ],
                        [
                          0.2222222222222222,
                          "#7201a8"
                        ],
                        [
                          0.3333333333333333,
                          "#9c179e"
                        ],
                        [
                          0.4444444444444444,
                          "#bd3786"
                        ],
                        [
                          0.5555555555555556,
                          "#d8576b"
                        ],
                        [
                          0.6666666666666666,
                          "#ed7953"
                        ],
                        [
                          0.7777777777777778,
                          "#fb9f3a"
                        ],
                        [
                          0.8888888888888888,
                          "#fdca26"
                        ],
                        [
                          1,
                          "#f0f921"
                        ]
                      ]
                    },
                    "colorway": [
                      "#636efa",
                      "#EF553B",
                      "#00cc96",
                      "#ab63fa",
                      "#FFA15A",
                      "#19d3f3",
                      "#FF6692",
                      "#B6E880",
                      "#FF97FF",
                      "#FECB52"
                    ],
                    "font": {
                      "color": "#2a3f5f"
                    },
                    "geo": {
                      "bgcolor": "white",
                      "lakecolor": "white",
                      "landcolor": "#E5ECF6",
                      "showlakes": true,
                      "showland": true,
                      "subunitcolor": "white"
                    },
                    "hoverlabel": {
                      "align": "left"
                    },
                    "hovermode": "closest",
                    "mapbox": {
                      "style": "light"
                    },
                    "paper_bgcolor": "white",
                    "plot_bgcolor": "#E5ECF6",
                    "polar": {
                      "angularaxis": {
                        "gridcolor": "white",
                        "linecolor": "white",
                        "ticks": ""
                      },
                      "bgcolor": "#E5ECF6",
                      "radialaxis": {
                        "gridcolor": "white",
                        "linecolor": "white",
                        "ticks": ""
                      }
                    },
                    "scene": {
                      "xaxis": {
                        "backgroundcolor": "#E5ECF6",
                        "gridcolor": "white",
                        "gridwidth": 2,
                        "linecolor": "white",
                        "showbackground": true,
                        "ticks": "",
                        "zerolinecolor": "white"
                      },
                      "yaxis": {
                        "backgroundcolor": "#E5ECF6",
                        "gridcolor": "white",
                        "gridwidth": 2,
                        "linecolor": "white",
                        "showbackground": true,
                        "ticks": "",
                        "zerolinecolor": "white"
                      },
                      "zaxis": {
                        "backgroundcolor": "#E5ECF6",
                        "gridcolor": "white",
                        "gridwidth": 2,
                        "linecolor": "white",
                        "showbackground": true,
                        "ticks": "",
                        "zerolinecolor": "white"
                      }
                    },
                    "shapedefaults": {
                      "line": {
                        "color": "#2a3f5f"
                      }
                    },
                    "ternary": {
                      "aaxis": {
                        "gridcolor": "white",
                        "linecolor": "white",
                        "ticks": ""
                      },
                      "baxis": {
                        "gridcolor": "white",
                        "linecolor": "white",
                        "ticks": ""
                      },
                      "bgcolor": "#E5ECF6",
                      "caxis": {
                        "gridcolor": "white",
                        "linecolor": "white",
                        "ticks": ""
                      }
                    },
                    "title": {
                      "x": 0.05
                    },
                    "xaxis": {
                      "automargin": true,
                      "gridcolor": "white",
                      "linecolor": "white",
                      "ticks": "",
                      "title": {
                        "standoff": 15
                      },
                      "zerolinecolor": "white",
                      "zerolinewidth": 2
                    },
                    "yaxis": {
                      "automargin": true,
                      "gridcolor": "white",
                      "linecolor": "white",
                      "ticks": "",
                      "title": {
                        "standoff": 15
                      },
                      "zerolinecolor": "white",
                      "zerolinewidth": 2
                    }
                  }
                },
                "title": {
                  "text": "Comparison of RMSEP Values"
                },
                "xaxis": {
                  "title": {
                    "text": "Model"
                  }
                },
                "yaxis": {
                  "title": {
                    "text": "RMSEP"
                  }
                }
              }
            }
          },
          "metadata": {},
          "output_type": "display_data"
        }
      ],
      "source": [
        "# Plotting the RMSEPs\n",
        "# Extract RMSEP values\n",
        "import plotly.graph_objects as go\n",
        "\n",
        "rmsep_svm = overview_xrf_svm['RMSEP'].values[0]\n",
        "rmsep_rf = overview_xrf_rf['RMSEP'].values[0]\n",
        "rmsep_pls = overview_xrf_pls['RMSEP'].values[2]  # Assuming we want the RMSEP for LV_3\n",
        "\n",
        "# Create a scatter plot with lines and markers\n",
        "fig = go.Figure(data=[\n",
        "    go.Scatter(name='SVM', x=['SVM'], y=[rmsep_svm], mode='lines+markers', marker=dict(symbol='circle', size=20), line=dict(width=2)),\n",
        "    go.Scatter(name='RF', x=['RF'], y=[rmsep_rf], mode='lines+markers', marker=dict(symbol='circle', size=20), line=dict(width=2)),\n",
        "    go.Scatter(name='PLS', x=['PLS'], y=[rmsep_pls], mode='lines+markers', marker=dict(symbol='circle', size=20), line=dict(width=2)),\n",
        "    go.Scatter(name='Line', x=['SVM', 'RF', 'PLS'], y=[rmsep_svm, rmsep_rf, rmsep_pls], mode='lines', line=dict(dash='dash', width=3))\n",
        "])\n",
        "\n",
        "# Update layout\n",
        "fig.update_layout(\n",
        "    title='Comparison of RMSEP Values',\n",
        "    xaxis_title='Model',\n",
        "    yaxis_title='RMSEP'\n",
        ")\n",
        "\n",
        "# Show the figure\n",
        "fig.show()"
      ]
    }
  ],
  "metadata": {
    "accelerator": "TPU",
    "colab": {
      "gpuType": "V28",
      "provenance": []
    },
    "kernelspec": {
      "display_name": "Python 3",
      "name": "python3"
    },
    "language_info": {
      "codemirror_mode": {
        "name": "ipython",
        "version": 3
      },
      "file_extension": ".py",
      "mimetype": "text/x-python",
      "name": "python",
      "nbconvert_exporter": "python",
      "pygments_lexer": "ipython3",
      "version": "3.13.0"
    }
  },
  "nbformat": 4,
  "nbformat_minor": 0
}
