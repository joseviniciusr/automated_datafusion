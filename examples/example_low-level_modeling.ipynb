{
  "cells": [
    {
      "cell_type": "code",
      "execution_count": 49,
      "metadata": {
        "colab": {
          "base_uri": "https://localhost:8080/"
        },
        "id": "KB9JEf_ISswX",
        "outputId": "4e22d17b-330c-4cd3-f914-0adb8daf64cb"
      },
      "outputs": [],
      "source": [
        "# Example applying a multi-sensor spectral soil library (XRF, GRS, vis and NIR) for soil fertility attributes quantification (example for exCa)\n",
        "\n",
        "# instantiating the necessary libraries\n",
        "import numpy as np\n",
        "import pandas as pd\n",
        "import os\n",
        "pd.options.plotting.backend = 'plotly'\n",
        "\n",
        "#let's start by importing the data\n",
        "XGRS = pd.read_csv('datasets/XGRS.csv', header=0, sep=';')\n",
        "XVIS = pd.read_csv('datasets/XVIS.csv', header=0, sep=';')\n",
        "XNIR = pd.read_csv('datasets/XNIR.csv', header=0, sep=';')\n",
        "XXRF = pd.read_csv('datasets/XXRF.csv', header=0, sep=';')\n",
        "Y = pd.read_csv('datasets/Y.csv', header=0, sep=';')\n"
      ]
    },
    {
      "cell_type": "markdown",
      "metadata": {},
      "source": [
        "## **kennard-stone**"
      ]
    },
    {
      "cell_type": "code",
      "execution_count": 50,
      "metadata": {},
      "outputs": [
        {
          "name": "stdout",
          "output_type": "stream",
          "text": [
            "Calculating pairwise distances using scikit-learn.\n",
            "Calculating pairwise distances using scikit-learn.\n"
          ]
        },
        {
          "name": "stderr",
          "output_type": "stream",
          "text": [
            "c:\\Users\\Usuario\\AppData\\Local\\Programs\\Python\\Python313\\Lib\\site-packages\\sklearn\\utils\\deprecation.py:151: FutureWarning:\n",
            "\n",
            "'force_all_finite' was renamed to 'ensure_all_finite' in 1.6 and will be removed in 1.8.\n",
            "\n",
            "c:\\Users\\Usuario\\AppData\\Local\\Programs\\Python\\Python313\\Lib\\site-packages\\sklearn\\utils\\deprecation.py:151: FutureWarning:\n",
            "\n",
            "'force_all_finite' was renamed to 'ensure_all_finite' in 1.6 and will be removed in 1.8.\n",
            "\n",
            "c:\\Users\\Usuario\\AppData\\Local\\Programs\\Python\\Python313\\Lib\\site-packages\\sklearn\\utils\\deprecation.py:151: FutureWarning:\n",
            "\n",
            "'force_all_finite' was renamed to 'ensure_all_finite' in 1.6 and will be removed in 1.8.\n",
            "\n"
          ]
        }
      ],
      "source": [
        "# Applying the Kennard-Stone for splittng calibration and prediction sets\n",
        "import kennard_stone as ks\n",
        "\n",
        "Ycal, Ypred = ks.train_test_split(Y.drop(['Samples'], axis=1), test_size = 0.30)\n",
        "indices_cal = Ycal.index\n",
        "indices_pred = Ypred.index\n",
        "Ycal.insert(0, 'Samples', Y['Samples'].iloc[indices_cal])\n",
        "Ycal = Ycal.reset_index(drop=True)\n",
        "Ypred.insert(0, 'Samples', Y['Samples'].iloc[indices_pred])\n",
        "Ypred = Ypred.reset_index(drop=True)"
      ]
    },
    {
      "cell_type": "code",
      "execution_count": 51,
      "metadata": {},
      "outputs": [],
      "source": [
        "# Reproducing the same calibration and prediction splitting for each individual sensor dataset\n",
        "\n",
        "XcalXRF = XXRF.iloc[indices_cal].reset_index(drop=True)\n",
        "XpredXRF = XXRF.iloc[indices_pred].reset_index(drop=True)\n",
        "XcalNIR = XNIR.iloc[indices_cal].reset_index(drop=True)\n",
        "XpredNIR = XNIR.iloc[indices_pred].reset_index(drop=True)\n",
        "XcalGRS = XGRS.iloc[indices_cal].reset_index(drop=True)\n",
        "XpredGRS = XGRS.iloc[indices_pred].reset_index(drop=True)\n",
        "XcalVIS = XVIS.iloc[indices_cal].reset_index(drop=True)\n",
        "XpredVIS = XVIS.iloc[indices_pred].reset_index(drop=True)"
      ]
    },
    {
      "cell_type": "markdown",
      "metadata": {
        "id": "K2qeGlXcQuAt"
      },
      "source": [
        "# **preprocessings**"
      ]
    },
    {
      "cell_type": "code",
      "execution_count": 52,
      "metadata": {
        "id": "0sz7nH60QrHj"
      },
      "outputs": [],
      "source": [
        "import preprocessings as prepr # poisson scaling by particular library\n",
        "\n",
        "XcalXRF_pre, meancal_xrf, meancalpoisson_xrf = prepr.poisson(XcalXRF, mc=True)\n",
        "XpredXRF_pre = (XpredXRF / np.sqrt(meancal_xrf)) - meancalpoisson_xrf"
      ]
    },
    {
      "cell_type": "code",
      "execution_count": 53,
      "metadata": {
        "id": "UjT64rjYTDeT"
      },
      "outputs": [],
      "source": [
        "from scipy.signal import savgol_filter # SAVGOL smoothing\n",
        "\n",
        "XcalNIR_pre = pd.DataFrame(savgol_filter(XcalNIR,\n",
        "                                        window_length=11,\n",
        "                                        polyorder=1,\n",
        "                                        deriv=1))\n",
        "\n",
        "XpredNIR_pre = pd.DataFrame(savgol_filter(XpredNIR,\n",
        "                                        window_length=11,\n",
        "                                        polyorder=1,\n",
        "                                        deriv=1))\n",
        "\n",
        "XcalNIR_pre, meancal_nir = prepr.mc(XcalNIR_pre)\n",
        "XpredNIR_pre = XpredNIR_pre - meancal_nir"
      ]
    },
    {
      "cell_type": "code",
      "execution_count": 54,
      "metadata": {},
      "outputs": [],
      "source": [
        "XcalVIS_pre = pd.DataFrame(savgol_filter(XcalVIS,\n",
        "                                        window_length=3,\n",
        "                                        polyorder=1,\n",
        "                                        deriv=1))\n",
        "\n",
        "XpredVIS_pre = pd.DataFrame(savgol_filter(XpredVIS,\n",
        "                                        window_length=3,\n",
        "                                        polyorder=1,\n",
        "                                        deriv=1))\n",
        "\n",
        "XcalVIS_pre, meancal_vis = prepr.mc(XcalVIS_pre)\n",
        "XpredVIS_pre = XpredVIS_pre - meancal_vis"
      ]
    },
    {
      "cell_type": "code",
      "execution_count": 55,
      "metadata": {},
      "outputs": [],
      "source": [
        "XcalGRS_pre = pd.DataFrame(savgol_filter(XcalGRS,\n",
        "                                        window_length=11,\n",
        "                                        polyorder=1,\n",
        "                                        deriv=1))\n",
        "\n",
        "XpredGRS_pre = pd.DataFrame(savgol_filter(XpredGRS,\n",
        "                                        window_length=11,\n",
        "                                        polyorder=1,\n",
        "                                        deriv=1))\n",
        "\n",
        "XcalGRS_pre, meancal_grs = prepr.mc(XcalGRS_pre)\n",
        "XpredGRS_pre = XpredGRS_pre - meancal_grs"
      ]
    },
    {
      "cell_type": "markdown",
      "metadata": {},
      "source": [
        "# **low-level data fusion**\n",
        "Just like individual modeling, we can use **model='pls'** or **'rf'** or **'svm'**. The only difference is that in **'pls'** all combinations of models and number of LVs will be tested. <br>\n",
        "Dictionaries (**cal** and **pred**) whose keys contain the individual predictions of each sensor must be inputed. Then, a low-level fusion models will be constructed for all combinations between the keys. Lets use 'rf'"
      ]
    },
    {
      "cell_type": "code",
      "execution_count": 56,
      "metadata": {},
      "outputs": [],
      "source": [
        "import automated_datafusion as df\n",
        "spectracal_dict = {\n",
        "    'xrf': XcalXRF_pre,\n",
        "    'nir': XcalNIR_pre,\n",
        "    'vis': XcalVIS_pre,\n",
        "    'grs': XcalGRS_pre\n",
        "}\n",
        "\n",
        "spectrapred_dict = {\n",
        "    'xrf': XpredXRF_pre,\n",
        "    'nir': XpredNIR_pre,\n",
        "    'vis': XpredVIS_pre,\n",
        "    'grs': XpredGRS_pre\n",
        "}\n",
        "\n",
        "results_low_level = df.low_level_fusion_automatizado(spectracal_dict, spectrapred_dict, Ycal, Ypred, \n",
        "                                                  target='exCa', \n",
        "                                                  model='rf',\n",
        "                                                  scale=True,\n",
        "                                                  random_seed=1)"
      ]
    },
    {
      "cell_type": "code",
      "execution_count": 57,
      "metadata": {},
      "outputs": [
        {
          "data": {
            "application/vnd.microsoft.datawrangler.viewer.v0+json": {
              "columns": [
                {
                  "name": "index",
                  "rawType": "int64",
                  "type": "integer"
                },
                {
                  "name": "Combination",
                  "rawType": "object",
                  "type": "string"
                },
                {
                  "name": "Model",
                  "rawType": "object",
                  "type": "string"
                },
                {
                  "name": "R2 Cal",
                  "rawType": "float64",
                  "type": "float"
                },
                {
                  "name": "r2 Cal",
                  "rawType": "float64",
                  "type": "float"
                },
                {
                  "name": "RMSEC",
                  "rawType": "float64",
                  "type": "float"
                },
                {
                  "name": "R2 Pred",
                  "rawType": "float64",
                  "type": "float"
                },
                {
                  "name": "r2 Pred",
                  "rawType": "float64",
                  "type": "float"
                },
                {
                  "name": "RMSEP",
                  "rawType": "float64",
                  "type": "float"
                },
                {
                  "name": "Bias Pred",
                  "rawType": "float64",
                  "type": "float"
                },
                {
                  "name": "tbias Pred",
                  "rawType": "float64",
                  "type": "float"
                },
                {
                  "name": "RPD Pred",
                  "rawType": "float64",
                  "type": "float"
                },
                {
                  "name": "RPIQ Pred",
                  "rawType": "float64",
                  "type": "float"
                }
              ],
              "conversionMethod": "pd.DataFrame",
              "ref": "bd992589-d819-4f3c-b9e2-e28a629ef54d",
              "rows": [
                [
                  "10",
                  "xrf_nir_vis_grs",
                  "RF",
                  "0.9533128126137733",
                  "0.9631979495104188",
                  "0.4163878304623513",
                  "0.6909084730209796",
                  "0.7656504839392456",
                  "0.8414660416004123",
                  "-0.3915333333333327",
                  "2.5210267198968728",
                  "1.7986905376261977",
                  "2.3322390957898387"
                ],
                [
                  "1",
                  "xrf_vis",
                  "RF",
                  "0.9616970202000077",
                  "0.9695876660976778",
                  "0.3771511647488705",
                  "0.6629187562083297",
                  "0.7720586171634892",
                  "0.878739883061724",
                  "-0.49162916666666584",
                  "3.237167640740429",
                  "1.7223948018461805",
                  "2.233311629332467"
                ],
                [
                  "7",
                  "xrf_nir_grs",
                  "RF",
                  "0.9576244955768258",
                  "0.9671787162493899",
                  "0.39669489625439674",
                  "0.6595703080604549",
                  "0.7367154447564285",
                  "0.8830936461761383",
                  "-0.40142083333333267",
                  "2.4474749591096647",
                  "1.7139031781217797",
                  "2.2223011211752826"
                ],
                [
                  "2",
                  "xrf_grs",
                  "RF",
                  "0.9583966292722197",
                  "0.9674228528025717",
                  "0.39306414711850884",
                  "0.6537525728089675",
                  "0.7306524886661157",
                  "0.8906074457919152",
                  "-0.38399166666666557",
                  "2.2917094494405568",
                  "1.699443468513357",
                  "2.203552203917377"
                ],
                [
                  "0",
                  "xrf_nir",
                  "RF",
                  "0.9598501826079069",
                  "0.9675067137069219",
                  "0.3861365924588285",
                  "0.6505612264668941",
                  "0.7787412533218355",
                  "0.8947023753274972",
                  "-0.5406291666666659",
                  "3.6369785715606775",
                  "1.6916653498392895",
                  "2.193466848997295"
                ],
                [
                  "6",
                  "xrf_nir_vis",
                  "RF",
                  "0.9589344976582386",
                  "0.9683803942578274",
                  "0.390515020060507",
                  "0.6489445801299363",
                  "0.7767590559804559",
                  "0.8967696162244416",
                  "-0.5392958333333322",
                  "3.6097885912448615",
                  "1.6877657085804176",
                  "2.188410450682386"
                ],
                [
                  "8",
                  "xrf_vis_grs",
                  "RF",
                  "0.9567141441203179",
                  "0.9654926525057115",
                  "0.4009333447897374",
                  "0.6435558385521766",
                  "0.7244797014534519",
                  "0.903626163253735",
                  "-0.40925416666666575",
                  "2.4362257303225343",
                  "1.6749592567246618",
                  "2.1718051997670385"
                ],
                [
                  "3",
                  "nir_vis",
                  "RF",
                  "0.8655696181740993",
                  "0.97227995573706",
                  "0.7065581148375965",
                  "0.2899839538005947",
                  "0.37702829222308226",
                  "1.2753433619356527",
                  "-0.17584999999999915",
                  "0.667647678479673",
                  "1.186768247621772",
                  "1.5388012817359362"
                ],
                [
                  "9",
                  "nir_vis_grs",
                  "RF",
                  "0.8553501664443286",
                  "0.9737132044499585",
                  "0.7329226474484588",
                  "0.06334248606003445",
                  "0.06405568136962794",
                  "1.4648172809830808",
                  "-0.03665833333333234",
                  "0.12005747902976446",
                  "1.0332599337882304",
                  "1.339757542103074"
                ],
                [
                  "4",
                  "nir_grs",
                  "RF",
                  "0.8538596620417627",
                  "0.9768836606913838",
                  "0.7366890696604259",
                  "0.04515241597653674",
                  "0.048142707536758256",
                  "1.4789724050840163",
                  "-0.0645499999999992",
                  "0.20951452280195182",
                  "1.0233706873485946",
                  "1.3269348320860093"
                ],
                [
                  "5",
                  "vis_grs",
                  "RF",
                  "0.8645408075057255",
                  "0.9756056099702108",
                  "0.7092566455703567",
                  "0.031535067917900506",
                  "0.03497140024585624",
                  "1.4894810901507503",
                  "-0.03436249999999924",
                  "0.11066983946969984",
                  "1.0161505350881956",
                  "1.317572954082536"
                ]
              ],
              "shape": {
                "columns": 12,
                "rows": 11
              }
            },
            "text/html": [
              "<div>\n",
              "<style scoped>\n",
              "    .dataframe tbody tr th:only-of-type {\n",
              "        vertical-align: middle;\n",
              "    }\n",
              "\n",
              "    .dataframe tbody tr th {\n",
              "        vertical-align: top;\n",
              "    }\n",
              "\n",
              "    .dataframe thead th {\n",
              "        text-align: right;\n",
              "    }\n",
              "</style>\n",
              "<table border=\"1\" class=\"dataframe\">\n",
              "  <thead>\n",
              "    <tr style=\"text-align: right;\">\n",
              "      <th></th>\n",
              "      <th>Combination</th>\n",
              "      <th>Model</th>\n",
              "      <th>R2 Cal</th>\n",
              "      <th>r2 Cal</th>\n",
              "      <th>RMSEC</th>\n",
              "      <th>R2 Pred</th>\n",
              "      <th>r2 Pred</th>\n",
              "      <th>RMSEP</th>\n",
              "      <th>Bias Pred</th>\n",
              "      <th>tbias Pred</th>\n",
              "      <th>RPD Pred</th>\n",
              "      <th>RPIQ Pred</th>\n",
              "    </tr>\n",
              "  </thead>\n",
              "  <tbody>\n",
              "    <tr>\n",
              "      <th>10</th>\n",
              "      <td>xrf_nir_vis_grs</td>\n",
              "      <td>RF</td>\n",
              "      <td>0.953313</td>\n",
              "      <td>0.963198</td>\n",
              "      <td>0.416388</td>\n",
              "      <td>0.690908</td>\n",
              "      <td>0.765650</td>\n",
              "      <td>0.841466</td>\n",
              "      <td>-0.391533</td>\n",
              "      <td>2.521027</td>\n",
              "      <td>1.798691</td>\n",
              "      <td>2.332239</td>\n",
              "    </tr>\n",
              "    <tr>\n",
              "      <th>1</th>\n",
              "      <td>xrf_vis</td>\n",
              "      <td>RF</td>\n",
              "      <td>0.961697</td>\n",
              "      <td>0.969588</td>\n",
              "      <td>0.377151</td>\n",
              "      <td>0.662919</td>\n",
              "      <td>0.772059</td>\n",
              "      <td>0.878740</td>\n",
              "      <td>-0.491629</td>\n",
              "      <td>3.237168</td>\n",
              "      <td>1.722395</td>\n",
              "      <td>2.233312</td>\n",
              "    </tr>\n",
              "    <tr>\n",
              "      <th>7</th>\n",
              "      <td>xrf_nir_grs</td>\n",
              "      <td>RF</td>\n",
              "      <td>0.957624</td>\n",
              "      <td>0.967179</td>\n",
              "      <td>0.396695</td>\n",
              "      <td>0.659570</td>\n",
              "      <td>0.736715</td>\n",
              "      <td>0.883094</td>\n",
              "      <td>-0.401421</td>\n",
              "      <td>2.447475</td>\n",
              "      <td>1.713903</td>\n",
              "      <td>2.222301</td>\n",
              "    </tr>\n",
              "    <tr>\n",
              "      <th>2</th>\n",
              "      <td>xrf_grs</td>\n",
              "      <td>RF</td>\n",
              "      <td>0.958397</td>\n",
              "      <td>0.967423</td>\n",
              "      <td>0.393064</td>\n",
              "      <td>0.653753</td>\n",
              "      <td>0.730652</td>\n",
              "      <td>0.890607</td>\n",
              "      <td>-0.383992</td>\n",
              "      <td>2.291709</td>\n",
              "      <td>1.699443</td>\n",
              "      <td>2.203552</td>\n",
              "    </tr>\n",
              "    <tr>\n",
              "      <th>0</th>\n",
              "      <td>xrf_nir</td>\n",
              "      <td>RF</td>\n",
              "      <td>0.959850</td>\n",
              "      <td>0.967507</td>\n",
              "      <td>0.386137</td>\n",
              "      <td>0.650561</td>\n",
              "      <td>0.778741</td>\n",
              "      <td>0.894702</td>\n",
              "      <td>-0.540629</td>\n",
              "      <td>3.636979</td>\n",
              "      <td>1.691665</td>\n",
              "      <td>2.193467</td>\n",
              "    </tr>\n",
              "    <tr>\n",
              "      <th>6</th>\n",
              "      <td>xrf_nir_vis</td>\n",
              "      <td>RF</td>\n",
              "      <td>0.958934</td>\n",
              "      <td>0.968380</td>\n",
              "      <td>0.390515</td>\n",
              "      <td>0.648945</td>\n",
              "      <td>0.776759</td>\n",
              "      <td>0.896770</td>\n",
              "      <td>-0.539296</td>\n",
              "      <td>3.609789</td>\n",
              "      <td>1.687766</td>\n",
              "      <td>2.188410</td>\n",
              "    </tr>\n",
              "    <tr>\n",
              "      <th>8</th>\n",
              "      <td>xrf_vis_grs</td>\n",
              "      <td>RF</td>\n",
              "      <td>0.956714</td>\n",
              "      <td>0.965493</td>\n",
              "      <td>0.400933</td>\n",
              "      <td>0.643556</td>\n",
              "      <td>0.724480</td>\n",
              "      <td>0.903626</td>\n",
              "      <td>-0.409254</td>\n",
              "      <td>2.436226</td>\n",
              "      <td>1.674959</td>\n",
              "      <td>2.171805</td>\n",
              "    </tr>\n",
              "    <tr>\n",
              "      <th>3</th>\n",
              "      <td>nir_vis</td>\n",
              "      <td>RF</td>\n",
              "      <td>0.865570</td>\n",
              "      <td>0.972280</td>\n",
              "      <td>0.706558</td>\n",
              "      <td>0.289984</td>\n",
              "      <td>0.377028</td>\n",
              "      <td>1.275343</td>\n",
              "      <td>-0.175850</td>\n",
              "      <td>0.667648</td>\n",
              "      <td>1.186768</td>\n",
              "      <td>1.538801</td>\n",
              "    </tr>\n",
              "    <tr>\n",
              "      <th>9</th>\n",
              "      <td>nir_vis_grs</td>\n",
              "      <td>RF</td>\n",
              "      <td>0.855350</td>\n",
              "      <td>0.973713</td>\n",
              "      <td>0.732923</td>\n",
              "      <td>0.063342</td>\n",
              "      <td>0.064056</td>\n",
              "      <td>1.464817</td>\n",
              "      <td>-0.036658</td>\n",
              "      <td>0.120057</td>\n",
              "      <td>1.033260</td>\n",
              "      <td>1.339758</td>\n",
              "    </tr>\n",
              "    <tr>\n",
              "      <th>4</th>\n",
              "      <td>nir_grs</td>\n",
              "      <td>RF</td>\n",
              "      <td>0.853860</td>\n",
              "      <td>0.976884</td>\n",
              "      <td>0.736689</td>\n",
              "      <td>0.045152</td>\n",
              "      <td>0.048143</td>\n",
              "      <td>1.478972</td>\n",
              "      <td>-0.064550</td>\n",
              "      <td>0.209515</td>\n",
              "      <td>1.023371</td>\n",
              "      <td>1.326935</td>\n",
              "    </tr>\n",
              "    <tr>\n",
              "      <th>5</th>\n",
              "      <td>vis_grs</td>\n",
              "      <td>RF</td>\n",
              "      <td>0.864541</td>\n",
              "      <td>0.975606</td>\n",
              "      <td>0.709257</td>\n",
              "      <td>0.031535</td>\n",
              "      <td>0.034971</td>\n",
              "      <td>1.489481</td>\n",
              "      <td>-0.034362</td>\n",
              "      <td>0.110670</td>\n",
              "      <td>1.016151</td>\n",
              "      <td>1.317573</td>\n",
              "    </tr>\n",
              "  </tbody>\n",
              "</table>\n",
              "</div>"
            ],
            "text/plain": [
              "        Combination Model    R2 Cal    r2 Cal     RMSEC   R2 Pred   r2 Pred  \\\n",
              "10  xrf_nir_vis_grs    RF  0.953313  0.963198  0.416388  0.690908  0.765650   \n",
              "1           xrf_vis    RF  0.961697  0.969588  0.377151  0.662919  0.772059   \n",
              "7       xrf_nir_grs    RF  0.957624  0.967179  0.396695  0.659570  0.736715   \n",
              "2           xrf_grs    RF  0.958397  0.967423  0.393064  0.653753  0.730652   \n",
              "0           xrf_nir    RF  0.959850  0.967507  0.386137  0.650561  0.778741   \n",
              "6       xrf_nir_vis    RF  0.958934  0.968380  0.390515  0.648945  0.776759   \n",
              "8       xrf_vis_grs    RF  0.956714  0.965493  0.400933  0.643556  0.724480   \n",
              "3           nir_vis    RF  0.865570  0.972280  0.706558  0.289984  0.377028   \n",
              "9       nir_vis_grs    RF  0.855350  0.973713  0.732923  0.063342  0.064056   \n",
              "4           nir_grs    RF  0.853860  0.976884  0.736689  0.045152  0.048143   \n",
              "5           vis_grs    RF  0.864541  0.975606  0.709257  0.031535  0.034971   \n",
              "\n",
              "       RMSEP  Bias Pred  tbias Pred  RPD Pred  RPIQ Pred  \n",
              "10  0.841466  -0.391533    2.521027  1.798691   2.332239  \n",
              "1   0.878740  -0.491629    3.237168  1.722395   2.233312  \n",
              "7   0.883094  -0.401421    2.447475  1.713903   2.222301  \n",
              "2   0.890607  -0.383992    2.291709  1.699443   2.203552  \n",
              "0   0.894702  -0.540629    3.636979  1.691665   2.193467  \n",
              "6   0.896770  -0.539296    3.609789  1.687766   2.188410  \n",
              "8   0.903626  -0.409254    2.436226  1.674959   2.171805  \n",
              "3   1.275343  -0.175850    0.667648  1.186768   1.538801  \n",
              "9   1.464817  -0.036658    0.120057  1.033260   1.339758  \n",
              "4   1.478972  -0.064550    0.209515  1.023371   1.326935  \n",
              "5   1.489481  -0.034362    0.110670  1.016151   1.317573  "
            ]
          },
          "execution_count": 57,
          "metadata": {},
          "output_type": "execute_result"
        }
      ],
      "source": [
        "rows = []\n",
        "\n",
        "for combination, models in results_low_level.items(): \n",
        "    for model_key, model_info in models.items():\n",
        "        row = {\n",
        "            'Combination': combination,\n",
        "            'Model': model_key \n",
        "        }\n",
        "        row.update(model_info['metrics']) \n",
        "        rows.append(row) \n",
        "\n",
        "metrics_low_level = pd.DataFrame(rows)\n",
        "metrics_low_level.sort_values('RMSEP', axis=0, ascending=True)"
      ]
    },
    {
      "cell_type": "code",
      "execution_count": 58,
      "metadata": {},
      "outputs": [
        {
          "data": {
            "application/vnd.plotly.v1+json": {
              "config": {
                "plotlyServerURL": "https://plot.ly"
              },
              "data": [
                {
                  "alignmentgroup": "True",
                  "hovertemplate": "Combination=%{x}<br>RMSEP=%{y}<extra></extra>",
                  "legendgroup": "xrf_nir",
                  "marker": {
                    "color": "#636efa",
                    "pattern": {
                      "shape": ""
                    }
                  },
                  "name": "xrf_nir",
                  "offsetgroup": "xrf_nir",
                  "orientation": "v",
                  "showlegend": true,
                  "textposition": "auto",
                  "type": "bar",
                  "x": [
                    "xrf_nir"
                  ],
                  "xaxis": "x",
                  "y": [
                    0.8947023753274972
                  ],
                  "yaxis": "y"
                },
                {
                  "alignmentgroup": "True",
                  "hovertemplate": "Combination=%{x}<br>RMSEP=%{y}<extra></extra>",
                  "legendgroup": "xrf_vis",
                  "marker": {
                    "color": "#EF553B",
                    "pattern": {
                      "shape": ""
                    }
                  },
                  "name": "xrf_vis",
                  "offsetgroup": "xrf_vis",
                  "orientation": "v",
                  "showlegend": true,
                  "textposition": "auto",
                  "type": "bar",
                  "x": [
                    "xrf_vis"
                  ],
                  "xaxis": "x",
                  "y": [
                    0.878739883061724
                  ],
                  "yaxis": "y"
                },
                {
                  "alignmentgroup": "True",
                  "hovertemplate": "Combination=%{x}<br>RMSEP=%{y}<extra></extra>",
                  "legendgroup": "xrf_grs",
                  "marker": {
                    "color": "#00cc96",
                    "pattern": {
                      "shape": ""
                    }
                  },
                  "name": "xrf_grs",
                  "offsetgroup": "xrf_grs",
                  "orientation": "v",
                  "showlegend": true,
                  "textposition": "auto",
                  "type": "bar",
                  "x": [
                    "xrf_grs"
                  ],
                  "xaxis": "x",
                  "y": [
                    0.8906074457919152
                  ],
                  "yaxis": "y"
                },
                {
                  "alignmentgroup": "True",
                  "hovertemplate": "Combination=%{x}<br>RMSEP=%{y}<extra></extra>",
                  "legendgroup": "nir_vis",
                  "marker": {
                    "color": "#ab63fa",
                    "pattern": {
                      "shape": ""
                    }
                  },
                  "name": "nir_vis",
                  "offsetgroup": "nir_vis",
                  "orientation": "v",
                  "showlegend": true,
                  "textposition": "auto",
                  "type": "bar",
                  "x": [
                    "nir_vis"
                  ],
                  "xaxis": "x",
                  "y": [
                    1.2753433619356527
                  ],
                  "yaxis": "y"
                },
                {
                  "alignmentgroup": "True",
                  "hovertemplate": "Combination=%{x}<br>RMSEP=%{y}<extra></extra>",
                  "legendgroup": "nir_grs",
                  "marker": {
                    "color": "#FFA15A",
                    "pattern": {
                      "shape": ""
                    }
                  },
                  "name": "nir_grs",
                  "offsetgroup": "nir_grs",
                  "orientation": "v",
                  "showlegend": true,
                  "textposition": "auto",
                  "type": "bar",
                  "x": [
                    "nir_grs"
                  ],
                  "xaxis": "x",
                  "y": [
                    1.4789724050840163
                  ],
                  "yaxis": "y"
                },
                {
                  "alignmentgroup": "True",
                  "hovertemplate": "Combination=%{x}<br>RMSEP=%{y}<extra></extra>",
                  "legendgroup": "vis_grs",
                  "marker": {
                    "color": "#19d3f3",
                    "pattern": {
                      "shape": ""
                    }
                  },
                  "name": "vis_grs",
                  "offsetgroup": "vis_grs",
                  "orientation": "v",
                  "showlegend": true,
                  "textposition": "auto",
                  "type": "bar",
                  "x": [
                    "vis_grs"
                  ],
                  "xaxis": "x",
                  "y": [
                    1.4894810901507503
                  ],
                  "yaxis": "y"
                },
                {
                  "alignmentgroup": "True",
                  "hovertemplate": "Combination=%{x}<br>RMSEP=%{y}<extra></extra>",
                  "legendgroup": "xrf_nir_vis",
                  "marker": {
                    "color": "#FF6692",
                    "pattern": {
                      "shape": ""
                    }
                  },
                  "name": "xrf_nir_vis",
                  "offsetgroup": "xrf_nir_vis",
                  "orientation": "v",
                  "showlegend": true,
                  "textposition": "auto",
                  "type": "bar",
                  "x": [
                    "xrf_nir_vis"
                  ],
                  "xaxis": "x",
                  "y": [
                    0.8967696162244416
                  ],
                  "yaxis": "y"
                },
                {
                  "alignmentgroup": "True",
                  "hovertemplate": "Combination=%{x}<br>RMSEP=%{y}<extra></extra>",
                  "legendgroup": "xrf_nir_grs",
                  "marker": {
                    "color": "#B6E880",
                    "pattern": {
                      "shape": ""
                    }
                  },
                  "name": "xrf_nir_grs",
                  "offsetgroup": "xrf_nir_grs",
                  "orientation": "v",
                  "showlegend": true,
                  "textposition": "auto",
                  "type": "bar",
                  "x": [
                    "xrf_nir_grs"
                  ],
                  "xaxis": "x",
                  "y": [
                    0.8830936461761383
                  ],
                  "yaxis": "y"
                },
                {
                  "alignmentgroup": "True",
                  "hovertemplate": "Combination=%{x}<br>RMSEP=%{y}<extra></extra>",
                  "legendgroup": "xrf_vis_grs",
                  "marker": {
                    "color": "#FF97FF",
                    "pattern": {
                      "shape": ""
                    }
                  },
                  "name": "xrf_vis_grs",
                  "offsetgroup": "xrf_vis_grs",
                  "orientation": "v",
                  "showlegend": true,
                  "textposition": "auto",
                  "type": "bar",
                  "x": [
                    "xrf_vis_grs"
                  ],
                  "xaxis": "x",
                  "y": [
                    0.903626163253735
                  ],
                  "yaxis": "y"
                },
                {
                  "alignmentgroup": "True",
                  "hovertemplate": "Combination=%{x}<br>RMSEP=%{y}<extra></extra>",
                  "legendgroup": "nir_vis_grs",
                  "marker": {
                    "color": "#FECB52",
                    "pattern": {
                      "shape": ""
                    }
                  },
                  "name": "nir_vis_grs",
                  "offsetgroup": "nir_vis_grs",
                  "orientation": "v",
                  "showlegend": true,
                  "textposition": "auto",
                  "type": "bar",
                  "x": [
                    "nir_vis_grs"
                  ],
                  "xaxis": "x",
                  "y": [
                    1.4648172809830808
                  ],
                  "yaxis": "y"
                },
                {
                  "alignmentgroup": "True",
                  "hovertemplate": "Combination=%{x}<br>RMSEP=%{y}<extra></extra>",
                  "legendgroup": "xrf_nir_vis_grs",
                  "marker": {
                    "color": "#636efa",
                    "pattern": {
                      "shape": ""
                    }
                  },
                  "name": "xrf_nir_vis_grs",
                  "offsetgroup": "xrf_nir_vis_grs",
                  "orientation": "v",
                  "showlegend": true,
                  "textposition": "auto",
                  "type": "bar",
                  "x": [
                    "xrf_nir_vis_grs"
                  ],
                  "xaxis": "x",
                  "y": [
                    0.8414660416004123
                  ],
                  "yaxis": "y"
                }
              ],
              "layout": {
                "barmode": "relative",
                "legend": {
                  "title": {
                    "text": "Combination"
                  },
                  "tracegroupgap": 0
                },
                "template": {
                  "data": {
                    "bar": [
                      {
                        "error_x": {
                          "color": "#2a3f5f"
                        },
                        "error_y": {
                          "color": "#2a3f5f"
                        },
                        "marker": {
                          "line": {
                            "color": "#E5ECF6",
                            "width": 0.5
                          },
                          "pattern": {
                            "fillmode": "overlay",
                            "size": 10,
                            "solidity": 0.2
                          }
                        },
                        "type": "bar"
                      }
                    ],
                    "barpolar": [
                      {
                        "marker": {
                          "line": {
                            "color": "#E5ECF6",
                            "width": 0.5
                          },
                          "pattern": {
                            "fillmode": "overlay",
                            "size": 10,
                            "solidity": 0.2
                          }
                        },
                        "type": "barpolar"
                      }
                    ],
                    "carpet": [
                      {
                        "aaxis": {
                          "endlinecolor": "#2a3f5f",
                          "gridcolor": "white",
                          "linecolor": "white",
                          "minorgridcolor": "white",
                          "startlinecolor": "#2a3f5f"
                        },
                        "baxis": {
                          "endlinecolor": "#2a3f5f",
                          "gridcolor": "white",
                          "linecolor": "white",
                          "minorgridcolor": "white",
                          "startlinecolor": "#2a3f5f"
                        },
                        "type": "carpet"
                      }
                    ],
                    "choropleth": [
                      {
                        "colorbar": {
                          "outlinewidth": 0,
                          "ticks": ""
                        },
                        "type": "choropleth"
                      }
                    ],
                    "contour": [
                      {
                        "colorbar": {
                          "outlinewidth": 0,
                          "ticks": ""
                        },
                        "colorscale": [
                          [
                            0,
                            "#0d0887"
                          ],
                          [
                            0.1111111111111111,
                            "#46039f"
                          ],
                          [
                            0.2222222222222222,
                            "#7201a8"
                          ],
                          [
                            0.3333333333333333,
                            "#9c179e"
                          ],
                          [
                            0.4444444444444444,
                            "#bd3786"
                          ],
                          [
                            0.5555555555555556,
                            "#d8576b"
                          ],
                          [
                            0.6666666666666666,
                            "#ed7953"
                          ],
                          [
                            0.7777777777777778,
                            "#fb9f3a"
                          ],
                          [
                            0.8888888888888888,
                            "#fdca26"
                          ],
                          [
                            1,
                            "#f0f921"
                          ]
                        ],
                        "type": "contour"
                      }
                    ],
                    "contourcarpet": [
                      {
                        "colorbar": {
                          "outlinewidth": 0,
                          "ticks": ""
                        },
                        "type": "contourcarpet"
                      }
                    ],
                    "heatmap": [
                      {
                        "colorbar": {
                          "outlinewidth": 0,
                          "ticks": ""
                        },
                        "colorscale": [
                          [
                            0,
                            "#0d0887"
                          ],
                          [
                            0.1111111111111111,
                            "#46039f"
                          ],
                          [
                            0.2222222222222222,
                            "#7201a8"
                          ],
                          [
                            0.3333333333333333,
                            "#9c179e"
                          ],
                          [
                            0.4444444444444444,
                            "#bd3786"
                          ],
                          [
                            0.5555555555555556,
                            "#d8576b"
                          ],
                          [
                            0.6666666666666666,
                            "#ed7953"
                          ],
                          [
                            0.7777777777777778,
                            "#fb9f3a"
                          ],
                          [
                            0.8888888888888888,
                            "#fdca26"
                          ],
                          [
                            1,
                            "#f0f921"
                          ]
                        ],
                        "type": "heatmap"
                      }
                    ],
                    "heatmapgl": [
                      {
                        "colorbar": {
                          "outlinewidth": 0,
                          "ticks": ""
                        },
                        "colorscale": [
                          [
                            0,
                            "#0d0887"
                          ],
                          [
                            0.1111111111111111,
                            "#46039f"
                          ],
                          [
                            0.2222222222222222,
                            "#7201a8"
                          ],
                          [
                            0.3333333333333333,
                            "#9c179e"
                          ],
                          [
                            0.4444444444444444,
                            "#bd3786"
                          ],
                          [
                            0.5555555555555556,
                            "#d8576b"
                          ],
                          [
                            0.6666666666666666,
                            "#ed7953"
                          ],
                          [
                            0.7777777777777778,
                            "#fb9f3a"
                          ],
                          [
                            0.8888888888888888,
                            "#fdca26"
                          ],
                          [
                            1,
                            "#f0f921"
                          ]
                        ],
                        "type": "heatmapgl"
                      }
                    ],
                    "histogram": [
                      {
                        "marker": {
                          "pattern": {
                            "fillmode": "overlay",
                            "size": 10,
                            "solidity": 0.2
                          }
                        },
                        "type": "histogram"
                      }
                    ],
                    "histogram2d": [
                      {
                        "colorbar": {
                          "outlinewidth": 0,
                          "ticks": ""
                        },
                        "colorscale": [
                          [
                            0,
                            "#0d0887"
                          ],
                          [
                            0.1111111111111111,
                            "#46039f"
                          ],
                          [
                            0.2222222222222222,
                            "#7201a8"
                          ],
                          [
                            0.3333333333333333,
                            "#9c179e"
                          ],
                          [
                            0.4444444444444444,
                            "#bd3786"
                          ],
                          [
                            0.5555555555555556,
                            "#d8576b"
                          ],
                          [
                            0.6666666666666666,
                            "#ed7953"
                          ],
                          [
                            0.7777777777777778,
                            "#fb9f3a"
                          ],
                          [
                            0.8888888888888888,
                            "#fdca26"
                          ],
                          [
                            1,
                            "#f0f921"
                          ]
                        ],
                        "type": "histogram2d"
                      }
                    ],
                    "histogram2dcontour": [
                      {
                        "colorbar": {
                          "outlinewidth": 0,
                          "ticks": ""
                        },
                        "colorscale": [
                          [
                            0,
                            "#0d0887"
                          ],
                          [
                            0.1111111111111111,
                            "#46039f"
                          ],
                          [
                            0.2222222222222222,
                            "#7201a8"
                          ],
                          [
                            0.3333333333333333,
                            "#9c179e"
                          ],
                          [
                            0.4444444444444444,
                            "#bd3786"
                          ],
                          [
                            0.5555555555555556,
                            "#d8576b"
                          ],
                          [
                            0.6666666666666666,
                            "#ed7953"
                          ],
                          [
                            0.7777777777777778,
                            "#fb9f3a"
                          ],
                          [
                            0.8888888888888888,
                            "#fdca26"
                          ],
                          [
                            1,
                            "#f0f921"
                          ]
                        ],
                        "type": "histogram2dcontour"
                      }
                    ],
                    "mesh3d": [
                      {
                        "colorbar": {
                          "outlinewidth": 0,
                          "ticks": ""
                        },
                        "type": "mesh3d"
                      }
                    ],
                    "parcoords": [
                      {
                        "line": {
                          "colorbar": {
                            "outlinewidth": 0,
                            "ticks": ""
                          }
                        },
                        "type": "parcoords"
                      }
                    ],
                    "pie": [
                      {
                        "automargin": true,
                        "type": "pie"
                      }
                    ],
                    "scatter": [
                      {
                        "fillpattern": {
                          "fillmode": "overlay",
                          "size": 10,
                          "solidity": 0.2
                        },
                        "type": "scatter"
                      }
                    ],
                    "scatter3d": [
                      {
                        "line": {
                          "colorbar": {
                            "outlinewidth": 0,
                            "ticks": ""
                          }
                        },
                        "marker": {
                          "colorbar": {
                            "outlinewidth": 0,
                            "ticks": ""
                          }
                        },
                        "type": "scatter3d"
                      }
                    ],
                    "scattercarpet": [
                      {
                        "marker": {
                          "colorbar": {
                            "outlinewidth": 0,
                            "ticks": ""
                          }
                        },
                        "type": "scattercarpet"
                      }
                    ],
                    "scattergeo": [
                      {
                        "marker": {
                          "colorbar": {
                            "outlinewidth": 0,
                            "ticks": ""
                          }
                        },
                        "type": "scattergeo"
                      }
                    ],
                    "scattergl": [
                      {
                        "marker": {
                          "colorbar": {
                            "outlinewidth": 0,
                            "ticks": ""
                          }
                        },
                        "type": "scattergl"
                      }
                    ],
                    "scattermapbox": [
                      {
                        "marker": {
                          "colorbar": {
                            "outlinewidth": 0,
                            "ticks": ""
                          }
                        },
                        "type": "scattermapbox"
                      }
                    ],
                    "scatterpolar": [
                      {
                        "marker": {
                          "colorbar": {
                            "outlinewidth": 0,
                            "ticks": ""
                          }
                        },
                        "type": "scatterpolar"
                      }
                    ],
                    "scatterpolargl": [
                      {
                        "marker": {
                          "colorbar": {
                            "outlinewidth": 0,
                            "ticks": ""
                          }
                        },
                        "type": "scatterpolargl"
                      }
                    ],
                    "scatterternary": [
                      {
                        "marker": {
                          "colorbar": {
                            "outlinewidth": 0,
                            "ticks": ""
                          }
                        },
                        "type": "scatterternary"
                      }
                    ],
                    "surface": [
                      {
                        "colorbar": {
                          "outlinewidth": 0,
                          "ticks": ""
                        },
                        "colorscale": [
                          [
                            0,
                            "#0d0887"
                          ],
                          [
                            0.1111111111111111,
                            "#46039f"
                          ],
                          [
                            0.2222222222222222,
                            "#7201a8"
                          ],
                          [
                            0.3333333333333333,
                            "#9c179e"
                          ],
                          [
                            0.4444444444444444,
                            "#bd3786"
                          ],
                          [
                            0.5555555555555556,
                            "#d8576b"
                          ],
                          [
                            0.6666666666666666,
                            "#ed7953"
                          ],
                          [
                            0.7777777777777778,
                            "#fb9f3a"
                          ],
                          [
                            0.8888888888888888,
                            "#fdca26"
                          ],
                          [
                            1,
                            "#f0f921"
                          ]
                        ],
                        "type": "surface"
                      }
                    ],
                    "table": [
                      {
                        "cells": {
                          "fill": {
                            "color": "#EBF0F8"
                          },
                          "line": {
                            "color": "white"
                          }
                        },
                        "header": {
                          "fill": {
                            "color": "#C8D4E3"
                          },
                          "line": {
                            "color": "white"
                          }
                        },
                        "type": "table"
                      }
                    ]
                  },
                  "layout": {
                    "annotationdefaults": {
                      "arrowcolor": "#2a3f5f",
                      "arrowhead": 0,
                      "arrowwidth": 1
                    },
                    "autotypenumbers": "strict",
                    "coloraxis": {
                      "colorbar": {
                        "outlinewidth": 0,
                        "ticks": ""
                      }
                    },
                    "colorscale": {
                      "diverging": [
                        [
                          0,
                          "#8e0152"
                        ],
                        [
                          0.1,
                          "#c51b7d"
                        ],
                        [
                          0.2,
                          "#de77ae"
                        ],
                        [
                          0.3,
                          "#f1b6da"
                        ],
                        [
                          0.4,
                          "#fde0ef"
                        ],
                        [
                          0.5,
                          "#f7f7f7"
                        ],
                        [
                          0.6,
                          "#e6f5d0"
                        ],
                        [
                          0.7,
                          "#b8e186"
                        ],
                        [
                          0.8,
                          "#7fbc41"
                        ],
                        [
                          0.9,
                          "#4d9221"
                        ],
                        [
                          1,
                          "#276419"
                        ]
                      ],
                      "sequential": [
                        [
                          0,
                          "#0d0887"
                        ],
                        [
                          0.1111111111111111,
                          "#46039f"
                        ],
                        [
                          0.2222222222222222,
                          "#7201a8"
                        ],
                        [
                          0.3333333333333333,
                          "#9c179e"
                        ],
                        [
                          0.4444444444444444,
                          "#bd3786"
                        ],
                        [
                          0.5555555555555556,
                          "#d8576b"
                        ],
                        [
                          0.6666666666666666,
                          "#ed7953"
                        ],
                        [
                          0.7777777777777778,
                          "#fb9f3a"
                        ],
                        [
                          0.8888888888888888,
                          "#fdca26"
                        ],
                        [
                          1,
                          "#f0f921"
                        ]
                      ],
                      "sequentialminus": [
                        [
                          0,
                          "#0d0887"
                        ],
                        [
                          0.1111111111111111,
                          "#46039f"
                        ],
                        [
                          0.2222222222222222,
                          "#7201a8"
                        ],
                        [
                          0.3333333333333333,
                          "#9c179e"
                        ],
                        [
                          0.4444444444444444,
                          "#bd3786"
                        ],
                        [
                          0.5555555555555556,
                          "#d8576b"
                        ],
                        [
                          0.6666666666666666,
                          "#ed7953"
                        ],
                        [
                          0.7777777777777778,
                          "#fb9f3a"
                        ],
                        [
                          0.8888888888888888,
                          "#fdca26"
                        ],
                        [
                          1,
                          "#f0f921"
                        ]
                      ]
                    },
                    "colorway": [
                      "#636efa",
                      "#EF553B",
                      "#00cc96",
                      "#ab63fa",
                      "#FFA15A",
                      "#19d3f3",
                      "#FF6692",
                      "#B6E880",
                      "#FF97FF",
                      "#FECB52"
                    ],
                    "font": {
                      "color": "#2a3f5f"
                    },
                    "geo": {
                      "bgcolor": "white",
                      "lakecolor": "white",
                      "landcolor": "#E5ECF6",
                      "showlakes": true,
                      "showland": true,
                      "subunitcolor": "white"
                    },
                    "hoverlabel": {
                      "align": "left"
                    },
                    "hovermode": "closest",
                    "mapbox": {
                      "style": "light"
                    },
                    "paper_bgcolor": "white",
                    "plot_bgcolor": "#E5ECF6",
                    "polar": {
                      "angularaxis": {
                        "gridcolor": "white",
                        "linecolor": "white",
                        "ticks": ""
                      },
                      "bgcolor": "#E5ECF6",
                      "radialaxis": {
                        "gridcolor": "white",
                        "linecolor": "white",
                        "ticks": ""
                      }
                    },
                    "scene": {
                      "xaxis": {
                        "backgroundcolor": "#E5ECF6",
                        "gridcolor": "white",
                        "gridwidth": 2,
                        "linecolor": "white",
                        "showbackground": true,
                        "ticks": "",
                        "zerolinecolor": "white"
                      },
                      "yaxis": {
                        "backgroundcolor": "#E5ECF6",
                        "gridcolor": "white",
                        "gridwidth": 2,
                        "linecolor": "white",
                        "showbackground": true,
                        "ticks": "",
                        "zerolinecolor": "white"
                      },
                      "zaxis": {
                        "backgroundcolor": "#E5ECF6",
                        "gridcolor": "white",
                        "gridwidth": 2,
                        "linecolor": "white",
                        "showbackground": true,
                        "ticks": "",
                        "zerolinecolor": "white"
                      }
                    },
                    "shapedefaults": {
                      "line": {
                        "color": "#2a3f5f"
                      }
                    },
                    "ternary": {
                      "aaxis": {
                        "gridcolor": "white",
                        "linecolor": "white",
                        "ticks": ""
                      },
                      "baxis": {
                        "gridcolor": "white",
                        "linecolor": "white",
                        "ticks": ""
                      },
                      "bgcolor": "#E5ECF6",
                      "caxis": {
                        "gridcolor": "white",
                        "linecolor": "white",
                        "ticks": ""
                      }
                    },
                    "title": {
                      "x": 0.05
                    },
                    "xaxis": {
                      "automargin": true,
                      "gridcolor": "white",
                      "linecolor": "white",
                      "ticks": "",
                      "title": {
                        "standoff": 15
                      },
                      "zerolinecolor": "white",
                      "zerolinewidth": 2
                    },
                    "yaxis": {
                      "automargin": true,
                      "gridcolor": "white",
                      "linecolor": "white",
                      "ticks": "",
                      "title": {
                        "standoff": 15
                      },
                      "zerolinecolor": "white",
                      "zerolinewidth": 2
                    }
                  }
                },
                "title": {
                  "text": "Comparison of RMSEPs of All Models"
                },
                "xaxis": {
                  "anchor": "y",
                  "categoryarray": [
                    "xrf_nir",
                    "xrf_vis",
                    "xrf_grs",
                    "nir_vis",
                    "nir_grs",
                    "vis_grs",
                    "xrf_nir_vis",
                    "xrf_nir_grs",
                    "xrf_vis_grs",
                    "nir_vis_grs",
                    "xrf_nir_vis_grs"
                  ],
                  "categoryorder": "array",
                  "domain": [
                    0,
                    1
                  ],
                  "title": {
                    "text": "Combination"
                  }
                },
                "yaxis": {
                  "anchor": "x",
                  "domain": [
                    0,
                    1
                  ],
                  "title": {
                    "text": "RMSEP"
                  }
                }
              }
            }
          },
          "metadata": {},
          "output_type": "display_data"
        }
      ],
      "source": [
        "import plotly.express as px\n",
        "\n",
        "# Extracting the data for the bar chart\n",
        "rmseps = metrics_low_level['RMSEP']\n",
        "combinations = metrics_low_level['Combination']\n",
        "\n",
        "# Creating the bar chart\n",
        "fig = px.bar(\n",
        "    metrics_low_level,\n",
        "    x=combinations,\n",
        "    y=rmseps,\n",
        "    color=combinations,  # Change bar color by the X axis\n",
        "    title='Comparison of RMSEPs of All Models',\n",
        "    labels={'x': 'Combination', 'y': 'RMSEP'}\n",
        ")\n",
        "\n",
        "# Display the plot\n",
        "fig.show()"
      ]
    }
  ],
  "metadata": {
    "accelerator": "TPU",
    "colab": {
      "gpuType": "V28",
      "provenance": []
    },
    "kernelspec": {
      "display_name": "Python 3",
      "name": "python3"
    },
    "language_info": {
      "codemirror_mode": {
        "name": "ipython",
        "version": 3
      },
      "file_extension": ".py",
      "mimetype": "text/x-python",
      "name": "python",
      "nbconvert_exporter": "python",
      "pygments_lexer": "ipython3",
      "version": "3.13.0"
    }
  },
  "nbformat": 4,
  "nbformat_minor": 0
}
