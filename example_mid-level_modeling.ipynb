{
  "cells": [
    {
      "cell_type": "code",
      "execution_count": 116,
      "metadata": {
        "colab": {
          "base_uri": "https://localhost:8080/"
        },
        "id": "KB9JEf_ISswX",
        "outputId": "4e22d17b-330c-4cd3-f914-0adb8daf64cb"
      },
      "outputs": [],
      "source": [
        "# Example applying a multi-sensor spectral soil library (XRF, GRS, vis and NIR) for soil fertility attributes quantification (example for exCa)\n",
        "\n",
        "# instantiating the necessary libraries\n",
        "import numpy as np\n",
        "import pandas as pd\n",
        "import os\n",
        "pd.options.plotting.backend = 'plotly'\n",
        "\n",
        "#let's start by importing the data\n",
        "XGRS = pd.read_csv('datasets/XGRS.csv', header=0, sep=';')\n",
        "XVIS = pd.read_csv('datasets/XVIS.csv', header=0, sep=';')\n",
        "XNIR = pd.read_csv('datasets/XNIR.csv', header=0, sep=';')\n",
        "XXRF = pd.read_csv('datasets/XXRF.csv', header=0, sep=';')\n",
        "Y = pd.read_csv('datasets/Y.csv', header=0, sep=';')\n"
      ]
    },
    {
      "cell_type": "markdown",
      "metadata": {},
      "source": [
        "## **kennard-stone**"
      ]
    },
    {
      "cell_type": "code",
      "execution_count": 117,
      "metadata": {},
      "outputs": [
        {
          "name": "stdout",
          "output_type": "stream",
          "text": [
            "Calculating pairwise distances using scikit-learn.\n",
            "Calculating pairwise distances using scikit-learn.\n"
          ]
        },
        {
          "name": "stderr",
          "output_type": "stream",
          "text": [
            "c:\\Users\\Usuario\\AppData\\Local\\Programs\\Python\\Python313\\Lib\\site-packages\\sklearn\\utils\\deprecation.py:151: FutureWarning:\n",
            "\n",
            "'force_all_finite' was renamed to 'ensure_all_finite' in 1.6 and will be removed in 1.8.\n",
            "\n",
            "c:\\Users\\Usuario\\AppData\\Local\\Programs\\Python\\Python313\\Lib\\site-packages\\sklearn\\utils\\deprecation.py:151: FutureWarning:\n",
            "\n",
            "'force_all_finite' was renamed to 'ensure_all_finite' in 1.6 and will be removed in 1.8.\n",
            "\n",
            "c:\\Users\\Usuario\\AppData\\Local\\Programs\\Python\\Python313\\Lib\\site-packages\\sklearn\\utils\\deprecation.py:151: FutureWarning:\n",
            "\n",
            "'force_all_finite' was renamed to 'ensure_all_finite' in 1.6 and will be removed in 1.8.\n",
            "\n"
          ]
        }
      ],
      "source": [
        "# Applying the Kennard-Stone for splittng calibration and prediction sets\n",
        "import kennard_stone as ks\n",
        "\n",
        "Ycal, Ypred = ks.train_test_split(Y.drop(['Samples'], axis=1), test_size = 0.30)\n",
        "indices_cal = Ycal.index\n",
        "indices_pred = Ypred.index\n",
        "Ycal.insert(0, 'Samples', Y['Samples'].iloc[indices_cal])\n",
        "Ycal = Ycal.reset_index(drop=True)\n",
        "Ypred.insert(0, 'Samples', Y['Samples'].iloc[indices_pred])\n",
        "Ypred = Ypred.reset_index(drop=True)"
      ]
    },
    {
      "cell_type": "code",
      "execution_count": 118,
      "metadata": {},
      "outputs": [],
      "source": [
        "# Reproducing the same calibration and prediction splitting for each individual sensor dataset\n",
        "\n",
        "XcalXRF = XXRF.iloc[indices_cal].reset_index(drop=True)\n",
        "XpredXRF = XXRF.iloc[indices_pred].reset_index(drop=True)\n",
        "XcalNIR = XNIR.iloc[indices_cal].reset_index(drop=True)\n",
        "XpredNIR = XNIR.iloc[indices_pred].reset_index(drop=True)\n",
        "XcalGRS = XGRS.iloc[indices_cal].reset_index(drop=True)\n",
        "XpredGRS = XGRS.iloc[indices_pred].reset_index(drop=True)\n",
        "XcalVIS = XVIS.iloc[indices_cal].reset_index(drop=True)\n",
        "XpredVIS = XVIS.iloc[indices_pred].reset_index(drop=True)"
      ]
    },
    {
      "cell_type": "markdown",
      "metadata": {
        "id": "K2qeGlXcQuAt"
      },
      "source": [
        "# **preprocessings**"
      ]
    },
    {
      "cell_type": "code",
      "execution_count": 119,
      "metadata": {
        "id": "0sz7nH60QrHj"
      },
      "outputs": [],
      "source": [
        "import preprocessings as prepr # poisson scaling by particular library\n",
        "\n",
        "XcalXRF_pre, meancal_xrf, meancalpoisson_xrf = prepr.poisson(XcalXRF, mc=True)\n",
        "XpredXRF_pre = (XpredXRF / np.sqrt(meancal_xrf)) - meancalpoisson_xrf"
      ]
    },
    {
      "cell_type": "code",
      "execution_count": 120,
      "metadata": {
        "id": "UjT64rjYTDeT"
      },
      "outputs": [],
      "source": [
        "from scipy.signal import savgol_filter # SAVGOL smoothing\n",
        "\n",
        "XcalNIR_pre = pd.DataFrame(savgol_filter(XcalNIR,\n",
        "                                        window_length=11,\n",
        "                                        polyorder=1,\n",
        "                                        deriv=1))\n",
        "\n",
        "XpredNIR_pre = pd.DataFrame(savgol_filter(XpredNIR,\n",
        "                                        window_length=11,\n",
        "                                        polyorder=1,\n",
        "                                        deriv=1))\n",
        "\n",
        "XcalNIR_pre, meancal_nir = prepr.mc(XcalNIR_pre)\n",
        "XpredNIR_pre = XpredNIR_pre - meancal_nir"
      ]
    },
    {
      "cell_type": "code",
      "execution_count": 121,
      "metadata": {},
      "outputs": [],
      "source": [
        "XcalVIS_pre = pd.DataFrame(savgol_filter(XcalVIS,\n",
        "                                        window_length=3,\n",
        "                                        polyorder=1,\n",
        "                                        deriv=1))\n",
        "\n",
        "XpredVIS_pre = pd.DataFrame(savgol_filter(XpredVIS,\n",
        "                                        window_length=3,\n",
        "                                        polyorder=1,\n",
        "                                        deriv=1))\n",
        "\n",
        "XcalVIS_pre, meancal_VIS = prepr.mc(XcalVIS_pre)\n",
        "XpredVIS_pre = XpredVIS_pre - meancal_VIS"
      ]
    },
    {
      "cell_type": "code",
      "execution_count": 122,
      "metadata": {},
      "outputs": [],
      "source": [
        "XcalGRS_pre = pd.DataFrame(savgol_filter(XcalGRS,\n",
        "                                        window_length=11,\n",
        "                                        polyorder=1,\n",
        "                                        deriv=1))\n",
        "\n",
        "XpredGRS_pre = pd.DataFrame(savgol_filter(XpredGRS,\n",
        "                                        window_length=11,\n",
        "                                        polyorder=1,\n",
        "                                        deriv=1))\n",
        "\n",
        "XcalGRS_pre, meancal_grs = prepr.mc(XcalGRS_pre)\n",
        "XpredGRS_pre = XpredGRS_pre - meancal_grs"
      ]
    },
    {
      "cell_type": "markdown",
      "metadata": {},
      "source": [
        "# **individual models**\n",
        "\n",
        "Lets use the individual modeling function to extract the LV scores from the individual spectra, then combine them at mid-level data fusion"
      ]
    },
    {
      "cell_type": "code",
      "execution_count": 123,
      "metadata": {},
      "outputs": [
        {
          "data": {
            "application/vnd.microsoft.datawrangler.viewer.v0+json": {
              "columns": [
                {
                  "name": "index",
                  "rawType": "int64",
                  "type": "integer"
                },
                {
                  "name": "LVs number",
                  "rawType": "int64",
                  "type": "integer"
                },
                {
                  "name": "R2 Cal",
                  "rawType": "float64",
                  "type": "float"
                },
                {
                  "name": "r2 Cal",
                  "rawType": "float64",
                  "type": "float"
                },
                {
                  "name": "RMSEC",
                  "rawType": "float64",
                  "type": "float"
                },
                {
                  "name": "R2 CV",
                  "rawType": "float64",
                  "type": "float"
                },
                {
                  "name": "r2 CV",
                  "rawType": "float64",
                  "type": "float"
                },
                {
                  "name": "RMSECV",
                  "rawType": "float64",
                  "type": "float"
                },
                {
                  "name": "Bias CV",
                  "rawType": "float64",
                  "type": "float"
                },
                {
                  "name": "tbias CV",
                  "rawType": "float64",
                  "type": "float"
                },
                {
                  "name": "RPD CV",
                  "rawType": "float64",
                  "type": "float"
                },
                {
                  "name": "RPIQ CV",
                  "rawType": "float64",
                  "type": "float"
                },
                {
                  "name": "R2 Pred",
                  "rawType": "float64",
                  "type": "float"
                },
                {
                  "name": "r2 Pred",
                  "rawType": "float64",
                  "type": "float"
                },
                {
                  "name": "RMSEP",
                  "rawType": "float64",
                  "type": "float"
                },
                {
                  "name": "Bias Pred",
                  "rawType": "float64",
                  "type": "float"
                },
                {
                  "name": "tbias Pred",
                  "rawType": "float64",
                  "type": "float"
                },
                {
                  "name": "RPD Pred",
                  "rawType": "float64",
                  "type": "float"
                },
                {
                  "name": "RPIQ Pred",
                  "rawType": "float64",
                  "type": "float"
                }
              ],
              "conversionMethod": "pd.DataFrame",
              "ref": "5c4cacba-8728-4607-a06e-f899e12779d0",
              "rows": [
                [
                  "0",
                  "1",
                  "0.5972039507284843",
                  "0.5972039507284843",
                  "1.2230431333427592",
                  "0.49497264989896594",
                  "0.4951119109747112",
                  "1.3694829248128761",
                  "0.022517099928368707",
                  "0.12195395521653563",
                  "1.419891697062275",
                  "1.9113053201139045",
                  "0.5702559029641512",
                  "0.6409799789872406",
                  "0.9921972159879137",
                  "-0.030270376206382444",
                  "0.14638141446106354",
                  "1.558248591052965",
                  "1.977933387009127"
                ],
                [
                  "1",
                  "2",
                  "0.6260627390864031",
                  "0.6260627390864032",
                  "1.1784157646950588",
                  "0.31119421906306477",
                  "0.435250172777922",
                  "1.5993649131419414",
                  "-0.09249935814522929",
                  "0.42963539359142666",
                  "1.215805985383518",
                  "1.6365871093532618",
                  "0.6570895594429882",
                  "0.7557854231238545",
                  "0.8863054059617018",
                  "-0.020248665480562006",
                  "0.10959488725927323",
                  "1.7444211706936708",
                  "2.214248030982677"
                ],
                [
                  "2",
                  "3",
                  "0.6705717858223266",
                  "0.6705717858223261",
                  "1.1060622461026595",
                  "0.2563127027610813",
                  "0.42317881959053655",
                  "1.6618596921432183",
                  "-0.13977168046711788",
                  "0.6259615839967992",
                  "1.1700852023810835",
                  "1.5750427141200714",
                  "0.7061155521778435",
                  "0.8410847905986875",
                  "0.82050521592371",
                  "-0.12724319108970972",
                  "0.7528409479947772",
                  "1.8843145465190991",
                  "2.391819042601275"
                ]
              ],
              "shape": {
                "columns": 18,
                "rows": 3
              }
            },
            "text/html": [
              "<div>\n",
              "<style scoped>\n",
              "    .dataframe tbody tr th:only-of-type {\n",
              "        vertical-align: middle;\n",
              "    }\n",
              "\n",
              "    .dataframe tbody tr th {\n",
              "        vertical-align: top;\n",
              "    }\n",
              "\n",
              "    .dataframe thead th {\n",
              "        text-align: right;\n",
              "    }\n",
              "</style>\n",
              "<table border=\"1\" class=\"dataframe\">\n",
              "  <thead>\n",
              "    <tr style=\"text-align: right;\">\n",
              "      <th></th>\n",
              "      <th>LVs number</th>\n",
              "      <th>R2 Cal</th>\n",
              "      <th>r2 Cal</th>\n",
              "      <th>RMSEC</th>\n",
              "      <th>R2 CV</th>\n",
              "      <th>r2 CV</th>\n",
              "      <th>RMSECV</th>\n",
              "      <th>Bias CV</th>\n",
              "      <th>tbias CV</th>\n",
              "      <th>RPD CV</th>\n",
              "      <th>RPIQ CV</th>\n",
              "      <th>R2 Pred</th>\n",
              "      <th>r2 Pred</th>\n",
              "      <th>RMSEP</th>\n",
              "      <th>Bias Pred</th>\n",
              "      <th>tbias Pred</th>\n",
              "      <th>RPD Pred</th>\n",
              "      <th>RPIQ Pred</th>\n",
              "    </tr>\n",
              "  </thead>\n",
              "  <tbody>\n",
              "    <tr>\n",
              "      <th>0</th>\n",
              "      <td>1</td>\n",
              "      <td>0.597204</td>\n",
              "      <td>0.597204</td>\n",
              "      <td>1.223043</td>\n",
              "      <td>0.494973</td>\n",
              "      <td>0.495112</td>\n",
              "      <td>1.369483</td>\n",
              "      <td>0.022517</td>\n",
              "      <td>0.121954</td>\n",
              "      <td>1.419892</td>\n",
              "      <td>1.911305</td>\n",
              "      <td>0.570256</td>\n",
              "      <td>0.640980</td>\n",
              "      <td>0.992197</td>\n",
              "      <td>-0.030270</td>\n",
              "      <td>0.146381</td>\n",
              "      <td>1.558249</td>\n",
              "      <td>1.977933</td>\n",
              "    </tr>\n",
              "    <tr>\n",
              "      <th>1</th>\n",
              "      <td>2</td>\n",
              "      <td>0.626063</td>\n",
              "      <td>0.626063</td>\n",
              "      <td>1.178416</td>\n",
              "      <td>0.311194</td>\n",
              "      <td>0.435250</td>\n",
              "      <td>1.599365</td>\n",
              "      <td>-0.092499</td>\n",
              "      <td>0.429635</td>\n",
              "      <td>1.215806</td>\n",
              "      <td>1.636587</td>\n",
              "      <td>0.657090</td>\n",
              "      <td>0.755785</td>\n",
              "      <td>0.886305</td>\n",
              "      <td>-0.020249</td>\n",
              "      <td>0.109595</td>\n",
              "      <td>1.744421</td>\n",
              "      <td>2.214248</td>\n",
              "    </tr>\n",
              "    <tr>\n",
              "      <th>2</th>\n",
              "      <td>3</td>\n",
              "      <td>0.670572</td>\n",
              "      <td>0.670572</td>\n",
              "      <td>1.106062</td>\n",
              "      <td>0.256313</td>\n",
              "      <td>0.423179</td>\n",
              "      <td>1.661860</td>\n",
              "      <td>-0.139772</td>\n",
              "      <td>0.625962</td>\n",
              "      <td>1.170085</td>\n",
              "      <td>1.575043</td>\n",
              "      <td>0.706116</td>\n",
              "      <td>0.841085</td>\n",
              "      <td>0.820505</td>\n",
              "      <td>-0.127243</td>\n",
              "      <td>0.752841</td>\n",
              "      <td>1.884315</td>\n",
              "      <td>2.391819</td>\n",
              "    </tr>\n",
              "  </tbody>\n",
              "</table>\n",
              "</div>"
            ],
            "text/plain": [
              "   LVs number    R2 Cal    r2 Cal     RMSEC     R2 CV     r2 CV    RMSECV  \\\n",
              "0           1  0.597204  0.597204  1.223043  0.494973  0.495112  1.369483   \n",
              "1           2  0.626063  0.626063  1.178416  0.311194  0.435250  1.599365   \n",
              "2           3  0.670572  0.670572  1.106062  0.256313  0.423179  1.661860   \n",
              "\n",
              "    Bias CV  tbias CV    RPD CV   RPIQ CV   R2 Pred   r2 Pred     RMSEP  \\\n",
              "0  0.022517  0.121954  1.419892  1.911305  0.570256  0.640980  0.992197   \n",
              "1 -0.092499  0.429635  1.215806  1.636587  0.657090  0.755785  0.886305   \n",
              "2 -0.139772  0.625962  1.170085  1.575043  0.706116  0.841085  0.820505   \n",
              "\n",
              "   Bias Pred  tbias Pred  RPD Pred  RPIQ Pred  \n",
              "0  -0.030270    0.146381  1.558249   1.977933  \n",
              "1  -0.020249    0.109595  1.744421   2.214248  \n",
              "2  -0.127243    0.752841  1.884315   2.391819  "
            ]
          },
          "execution_count": 123,
          "metadata": {},
          "output_type": "execute_result"
        }
      ],
      "source": [
        "import automated_datafusion as df\n",
        "overview_xrf, calres_xrf, LVscorescal_xrf, predres_xrf, LVscorespred_xrf = df.modelo_individual_otimizado(Xcal=XcalXRF_pre,\n",
        "                                   ycal=Ycal, \n",
        "                                   Xpred=XpredXRF_pre, \n",
        "                                   ypred=Ypred,\n",
        "                                   model='pls', # by using PLS\n",
        "                                   maxLV=3,\n",
        "                                   target='exCa',\n",
        "                                   LVscores=True)                    \n",
        "overview_xrf"
      ]
    },
    {
      "cell_type": "code",
      "execution_count": 124,
      "metadata": {},
      "outputs": [
        {
          "data": {
            "application/vnd.microsoft.datawrangler.viewer.v0+json": {
              "columns": [
                {
                  "name": "index",
                  "rawType": "int64",
                  "type": "integer"
                },
                {
                  "name": "LVs number",
                  "rawType": "int64",
                  "type": "integer"
                },
                {
                  "name": "R2 Cal",
                  "rawType": "float64",
                  "type": "float"
                },
                {
                  "name": "r2 Cal",
                  "rawType": "float64",
                  "type": "float"
                },
                {
                  "name": "RMSEC",
                  "rawType": "float64",
                  "type": "float"
                },
                {
                  "name": "R2 CV",
                  "rawType": "float64",
                  "type": "float"
                },
                {
                  "name": "r2 CV",
                  "rawType": "float64",
                  "type": "float"
                },
                {
                  "name": "RMSECV",
                  "rawType": "float64",
                  "type": "float"
                },
                {
                  "name": "Bias CV",
                  "rawType": "float64",
                  "type": "float"
                },
                {
                  "name": "tbias CV",
                  "rawType": "float64",
                  "type": "float"
                },
                {
                  "name": "RPD CV",
                  "rawType": "float64",
                  "type": "float"
                },
                {
                  "name": "RPIQ CV",
                  "rawType": "float64",
                  "type": "float"
                },
                {
                  "name": "R2 Pred",
                  "rawType": "float64",
                  "type": "float"
                },
                {
                  "name": "r2 Pred",
                  "rawType": "float64",
                  "type": "float"
                },
                {
                  "name": "RMSEP",
                  "rawType": "float64",
                  "type": "float"
                },
                {
                  "name": "Bias Pred",
                  "rawType": "float64",
                  "type": "float"
                },
                {
                  "name": "tbias Pred",
                  "rawType": "float64",
                  "type": "float"
                },
                {
                  "name": "RPD Pred",
                  "rawType": "float64",
                  "type": "float"
                },
                {
                  "name": "RPIQ Pred",
                  "rawType": "float64",
                  "type": "float"
                }
              ],
              "conversionMethod": "pd.DataFrame",
              "ref": "085c34f0-e116-4077-8356-aba3a1e2fba4",
              "rows": [
                [
                  "0",
                  "1",
                  "0.10643709348698838",
                  "0.10643709348698838",
                  "1.8216365796164156",
                  "-0.11935623909626236",
                  "3.8561625616794534e-05",
                  "2.0388408885723446",
                  "-0.014794307775658017",
                  "0.05381509275569818",
                  "0.9537367261512839",
                  "1.2838176900762717",
                  "-0.077183803114665",
                  "0.015929506215144863",
                  "1.5708617013631518",
                  "-0.25513288678113577",
                  "0.7894005507891831",
                  "0.984230446587491",
                  "1.2493143083805502"
                ],
                [
                  "1",
                  "2",
                  "0.22796193308824475",
                  "0.22796193308824458",
                  "1.6932400407857215",
                  "-0.12845981758599279",
                  "0.01130510875992881",
                  "2.0471149134347115",
                  "-0.03173722151750734",
                  "0.11499003983276183",
                  "0.9498819150058324",
                  "1.2786287583671987",
                  "0.00412873106281153",
                  "0.07339941204938215",
                  "1.5104092814097885",
                  "-0.26476694143192914",
                  "0.8539063822876845",
                  "1.0236231549217898",
                  "1.299316697900743"
                ],
                [
                  "2",
                  "3",
                  "0.39037927597229094",
                  "0.3903792759722909",
                  "1.5046276338092124",
                  "-0.20561474002047264",
                  "0.028493943741039966",
                  "2.1159404798945394",
                  "0.04965433477678072",
                  "0.17408232542967783",
                  "0.9189849396459768",
                  "1.2370385768745533",
                  "0.10448564352760947",
                  "0.17278698994321",
                  "1.4322845936670379",
                  "-0.266749456510397",
                  "0.9090834147993376",
                  "1.079457197749667",
                  "1.370188584501539"
                ],
                [
                  "3",
                  "4",
                  "0.6273171078837245",
                  "0.6273171078837246",
                  "1.1764376124372116",
                  "-0.16525366674972508",
                  "0.05193095987158429",
                  "2.0802206904002594",
                  "0.033003260851844705",
                  "0.11767479472664452",
                  "0.9347649714205151",
                  "1.25827995658305",
                  "0.08814575214640485",
                  "0.25274510927747734",
                  "1.445292526382827",
                  "-0.5028870310648341",
                  "1.7799219461345586",
                  "1.0697418589226932",
                  "1.357856602850914"
                ],
                [
                  "4",
                  "5",
                  "0.6891140448984893",
                  "0.6891140448984896",
                  "1.0744834331390427",
                  "-0.22658098197070609",
                  "0.02248823504926126",
                  "2.1342598080374566",
                  "-0.019572854807125655",
                  "0.06801528104228881",
                  "0.9110968715652429",
                  "1.2264205089477387",
                  "0.11570046262809641",
                  "0.30672503949107455",
                  "1.4232878534970093",
                  "-0.48779700634056167",
                  "1.7496182148020973",
                  "1.0862805510923934",
                  "1.3788496790569458"
                ]
              ],
              "shape": {
                "columns": 18,
                "rows": 5
              }
            },
            "text/html": [
              "<div>\n",
              "<style scoped>\n",
              "    .dataframe tbody tr th:only-of-type {\n",
              "        vertical-align: middle;\n",
              "    }\n",
              "\n",
              "    .dataframe tbody tr th {\n",
              "        vertical-align: top;\n",
              "    }\n",
              "\n",
              "    .dataframe thead th {\n",
              "        text-align: right;\n",
              "    }\n",
              "</style>\n",
              "<table border=\"1\" class=\"dataframe\">\n",
              "  <thead>\n",
              "    <tr style=\"text-align: right;\">\n",
              "      <th></th>\n",
              "      <th>LVs number</th>\n",
              "      <th>R2 Cal</th>\n",
              "      <th>r2 Cal</th>\n",
              "      <th>RMSEC</th>\n",
              "      <th>R2 CV</th>\n",
              "      <th>r2 CV</th>\n",
              "      <th>RMSECV</th>\n",
              "      <th>Bias CV</th>\n",
              "      <th>tbias CV</th>\n",
              "      <th>RPD CV</th>\n",
              "      <th>RPIQ CV</th>\n",
              "      <th>R2 Pred</th>\n",
              "      <th>r2 Pred</th>\n",
              "      <th>RMSEP</th>\n",
              "      <th>Bias Pred</th>\n",
              "      <th>tbias Pred</th>\n",
              "      <th>RPD Pred</th>\n",
              "      <th>RPIQ Pred</th>\n",
              "    </tr>\n",
              "  </thead>\n",
              "  <tbody>\n",
              "    <tr>\n",
              "      <th>0</th>\n",
              "      <td>1</td>\n",
              "      <td>0.106437</td>\n",
              "      <td>0.106437</td>\n",
              "      <td>1.821637</td>\n",
              "      <td>-0.119356</td>\n",
              "      <td>0.000039</td>\n",
              "      <td>2.038841</td>\n",
              "      <td>-0.014794</td>\n",
              "      <td>0.053815</td>\n",
              "      <td>0.953737</td>\n",
              "      <td>1.283818</td>\n",
              "      <td>-0.077184</td>\n",
              "      <td>0.015930</td>\n",
              "      <td>1.570862</td>\n",
              "      <td>-0.255133</td>\n",
              "      <td>0.789401</td>\n",
              "      <td>0.984230</td>\n",
              "      <td>1.249314</td>\n",
              "    </tr>\n",
              "    <tr>\n",
              "      <th>1</th>\n",
              "      <td>2</td>\n",
              "      <td>0.227962</td>\n",
              "      <td>0.227962</td>\n",
              "      <td>1.693240</td>\n",
              "      <td>-0.128460</td>\n",
              "      <td>0.011305</td>\n",
              "      <td>2.047115</td>\n",
              "      <td>-0.031737</td>\n",
              "      <td>0.114990</td>\n",
              "      <td>0.949882</td>\n",
              "      <td>1.278629</td>\n",
              "      <td>0.004129</td>\n",
              "      <td>0.073399</td>\n",
              "      <td>1.510409</td>\n",
              "      <td>-0.264767</td>\n",
              "      <td>0.853906</td>\n",
              "      <td>1.023623</td>\n",
              "      <td>1.299317</td>\n",
              "    </tr>\n",
              "    <tr>\n",
              "      <th>2</th>\n",
              "      <td>3</td>\n",
              "      <td>0.390379</td>\n",
              "      <td>0.390379</td>\n",
              "      <td>1.504628</td>\n",
              "      <td>-0.205615</td>\n",
              "      <td>0.028494</td>\n",
              "      <td>2.115940</td>\n",
              "      <td>0.049654</td>\n",
              "      <td>0.174082</td>\n",
              "      <td>0.918985</td>\n",
              "      <td>1.237039</td>\n",
              "      <td>0.104486</td>\n",
              "      <td>0.172787</td>\n",
              "      <td>1.432285</td>\n",
              "      <td>-0.266749</td>\n",
              "      <td>0.909083</td>\n",
              "      <td>1.079457</td>\n",
              "      <td>1.370189</td>\n",
              "    </tr>\n",
              "    <tr>\n",
              "      <th>3</th>\n",
              "      <td>4</td>\n",
              "      <td>0.627317</td>\n",
              "      <td>0.627317</td>\n",
              "      <td>1.176438</td>\n",
              "      <td>-0.165254</td>\n",
              "      <td>0.051931</td>\n",
              "      <td>2.080221</td>\n",
              "      <td>0.033003</td>\n",
              "      <td>0.117675</td>\n",
              "      <td>0.934765</td>\n",
              "      <td>1.258280</td>\n",
              "      <td>0.088146</td>\n",
              "      <td>0.252745</td>\n",
              "      <td>1.445293</td>\n",
              "      <td>-0.502887</td>\n",
              "      <td>1.779922</td>\n",
              "      <td>1.069742</td>\n",
              "      <td>1.357857</td>\n",
              "    </tr>\n",
              "    <tr>\n",
              "      <th>4</th>\n",
              "      <td>5</td>\n",
              "      <td>0.689114</td>\n",
              "      <td>0.689114</td>\n",
              "      <td>1.074483</td>\n",
              "      <td>-0.226581</td>\n",
              "      <td>0.022488</td>\n",
              "      <td>2.134260</td>\n",
              "      <td>-0.019573</td>\n",
              "      <td>0.068015</td>\n",
              "      <td>0.911097</td>\n",
              "      <td>1.226421</td>\n",
              "      <td>0.115700</td>\n",
              "      <td>0.306725</td>\n",
              "      <td>1.423288</td>\n",
              "      <td>-0.487797</td>\n",
              "      <td>1.749618</td>\n",
              "      <td>1.086281</td>\n",
              "      <td>1.378850</td>\n",
              "    </tr>\n",
              "  </tbody>\n",
              "</table>\n",
              "</div>"
            ],
            "text/plain": [
              "   LVs number    R2 Cal    r2 Cal     RMSEC     R2 CV     r2 CV    RMSECV  \\\n",
              "0           1  0.106437  0.106437  1.821637 -0.119356  0.000039  2.038841   \n",
              "1           2  0.227962  0.227962  1.693240 -0.128460  0.011305  2.047115   \n",
              "2           3  0.390379  0.390379  1.504628 -0.205615  0.028494  2.115940   \n",
              "3           4  0.627317  0.627317  1.176438 -0.165254  0.051931  2.080221   \n",
              "4           5  0.689114  0.689114  1.074483 -0.226581  0.022488  2.134260   \n",
              "\n",
              "    Bias CV  tbias CV    RPD CV   RPIQ CV   R2 Pred   r2 Pred     RMSEP  \\\n",
              "0 -0.014794  0.053815  0.953737  1.283818 -0.077184  0.015930  1.570862   \n",
              "1 -0.031737  0.114990  0.949882  1.278629  0.004129  0.073399  1.510409   \n",
              "2  0.049654  0.174082  0.918985  1.237039  0.104486  0.172787  1.432285   \n",
              "3  0.033003  0.117675  0.934765  1.258280  0.088146  0.252745  1.445293   \n",
              "4 -0.019573  0.068015  0.911097  1.226421  0.115700  0.306725  1.423288   \n",
              "\n",
              "   Bias Pred  tbias Pred  RPD Pred  RPIQ Pred  \n",
              "0  -0.255133    0.789401  0.984230   1.249314  \n",
              "1  -0.264767    0.853906  1.023623   1.299317  \n",
              "2  -0.266749    0.909083  1.079457   1.370189  \n",
              "3  -0.502887    1.779922  1.069742   1.357857  \n",
              "4  -0.487797    1.749618  1.086281   1.378850  "
            ]
          },
          "execution_count": 124,
          "metadata": {},
          "output_type": "execute_result"
        }
      ],
      "source": [
        "overview_nir, calres_nir, LVscorescal_nir, predres_nir, LVscorespred_nir = df.modelo_individual_otimizado(Xcal=XcalNIR_pre,\n",
        "                                   ycal=Ycal,\n",
        "                                   target='exCa', \n",
        "                                   model='pls', #by using RF\n",
        "                                   Xpred=XpredNIR_pre, \n",
        "                                   ypred=Ypred,\n",
        "                                   maxLV=5,\n",
        "                                   LVscores=True)\n",
        "overview_nir"
      ]
    },
    {
      "cell_type": "code",
      "execution_count": 125,
      "metadata": {},
      "outputs": [
        {
          "data": {
            "application/vnd.microsoft.datawrangler.viewer.v0+json": {
              "columns": [
                {
                  "name": "index",
                  "rawType": "int64",
                  "type": "integer"
                },
                {
                  "name": "LVs number",
                  "rawType": "int64",
                  "type": "integer"
                },
                {
                  "name": "R2 Cal",
                  "rawType": "float64",
                  "type": "float"
                },
                {
                  "name": "r2 Cal",
                  "rawType": "float64",
                  "type": "float"
                },
                {
                  "name": "RMSEC",
                  "rawType": "float64",
                  "type": "float"
                },
                {
                  "name": "R2 CV",
                  "rawType": "float64",
                  "type": "float"
                },
                {
                  "name": "r2 CV",
                  "rawType": "float64",
                  "type": "float"
                },
                {
                  "name": "RMSECV",
                  "rawType": "float64",
                  "type": "float"
                },
                {
                  "name": "Bias CV",
                  "rawType": "float64",
                  "type": "float"
                },
                {
                  "name": "tbias CV",
                  "rawType": "float64",
                  "type": "float"
                },
                {
                  "name": "RPD CV",
                  "rawType": "float64",
                  "type": "float"
                },
                {
                  "name": "RPIQ CV",
                  "rawType": "float64",
                  "type": "float"
                },
                {
                  "name": "R2 Pred",
                  "rawType": "float64",
                  "type": "float"
                },
                {
                  "name": "r2 Pred",
                  "rawType": "float64",
                  "type": "float"
                },
                {
                  "name": "RMSEP",
                  "rawType": "float64",
                  "type": "float"
                },
                {
                  "name": "Bias Pred",
                  "rawType": "float64",
                  "type": "float"
                },
                {
                  "name": "tbias Pred",
                  "rawType": "float64",
                  "type": "float"
                },
                {
                  "name": "RPD Pred",
                  "rawType": "float64",
                  "type": "float"
                },
                {
                  "name": "RPIQ Pred",
                  "rawType": "float64",
                  "type": "float"
                }
              ],
              "conversionMethod": "pd.DataFrame",
              "ref": "4b7aeca9-677b-4dc5-a2ce-32490c3bda30",
              "rows": [
                [
                  "0",
                  "1",
                  "0.017206701691471094",
                  "0.01720670169147111",
                  "1.9104262010234188",
                  "-0.04023225118635909",
                  "0.001041043669721657",
                  "1.9654605433499919",
                  "0.026940331447538497",
                  "0.10166249189156425",
                  "0.9893444265719356",
                  "1.3317489424329285",
                  "-0.023421297148176423",
                  "0.021249773944426776",
                  "1.5311589219136794",
                  "-0.1483758456735697",
                  "0.4669341072875377",
                  "1.00975143189415",
                  "1.281708888550393"
                ],
                [
                  "1",
                  "2",
                  "0.035195513859259786",
                  "0.03519551385925977",
                  "1.8928614637844843",
                  "-3.4569534330265146",
                  "0.0018113637385739694",
                  "4.068349181486547",
                  "0.4465703269887838",
                  "0.8190025173309776",
                  "0.47796227596664875",
                  "0.6433813527883032",
                  "-0.032633409750043585",
                  "0.000969909399928282",
                  "1.5380346871662194",
                  "-0.14777553153361003",
                  "0.4629288266584464",
                  "1.0052373504712453",
                  "1.2759790246446554"
                ],
                [
                  "2",
                  "3",
                  "0.12668480014629413",
                  "0.12668480014629394",
                  "1.8008796147720745",
                  "-3.402411814013706",
                  "0.0026938389173075485",
                  "4.043379502774756",
                  "0.5167598697856574",
                  "0.9556563640204827",
                  "0.48091390701168263",
                  "0.6473545206933333",
                  "0.05723273031428777",
                  "0.08589398830028565",
                  "1.4695869692281616",
                  "-0.19999391290758925",
                  "0.6587865057367566",
                  "1.0520574462305279",
                  "1.3354092279620038"
                ],
                [
                  "3",
                  "4",
                  "0.16619009951278874",
                  "0.16619009951278874",
                  "1.7596759414059433",
                  "-7.304227148786971",
                  "0.003435661713823579",
                  "5.553269913273345",
                  "0.7641638273682962",
                  "1.0303155257249166",
                  "0.35015719829547726",
                  "0.4713439182460212",
                  "-0.01825729427885059",
                  "0.04756108118179141",
                  "1.5272910580397707",
                  "-0.20124937717821748",
                  "0.6374998746582128",
                  "1.0123086269124093",
                  "1.2849548156975439"
                ],
                [
                  "4",
                  "5",
                  "0.191684623652575",
                  "0.1916846236525749",
                  "1.7325652228753836",
                  "-7.722918132222556",
                  "0.0031603412945575343",
                  "5.69154364835386",
                  "0.7554007331395132",
                  "0.9930884304249489",
                  "0.3416502717628752",
                  "0.459892809704982",
                  "-0.058414552553278876",
                  "0.04594878360182417",
                  "1.5571159215535872",
                  "-0.13458677075614026",
                  "0.4160769749198498",
                  "0.9929189551393545",
                  "1.2603429024359007"
                ],
                [
                  "5",
                  "6",
                  "0.22272528060888164",
                  "0.2227252806088818",
                  "1.6989728698959599",
                  "-2.542763339317062",
                  "0.010018047174204556",
                  "3.6271894827307967",
                  "0.3066250725113814",
                  "0.6291817438869455",
                  "0.5360948038331862",
                  "0.7216331025610957",
                  "0.047455671552090184",
                  "0.0858634709202253",
                  "1.4771875609831193",
                  "-0.010368225398631692",
                  "0.03366227038227451",
                  "1.0466442818072912",
                  "1.3285381300488943"
                ],
                [
                  "6",
                  "7",
                  "0.23854101968933505",
                  "0.23854101968933528",
                  "1.6815989558315",
                  "-1.9647924551796416",
                  "0.01246387239218315",
                  "3.3181523389700716",
                  "0.15071884654840728",
                  "0.33721048342353116",
                  "0.5860241590999181",
                  "0.7888426246314092",
                  "0.12538147871902594",
                  "0.12968409653746657",
                  "1.4154755729842805",
                  "-0.019480350206670938",
                  "0.06600843428430798",
                  "1.092275941293839",
                  "1.3864598142533928"
                ]
              ],
              "shape": {
                "columns": 18,
                "rows": 7
              }
            },
            "text/html": [
              "<div>\n",
              "<style scoped>\n",
              "    .dataframe tbody tr th:only-of-type {\n",
              "        vertical-align: middle;\n",
              "    }\n",
              "\n",
              "    .dataframe tbody tr th {\n",
              "        vertical-align: top;\n",
              "    }\n",
              "\n",
              "    .dataframe thead th {\n",
              "        text-align: right;\n",
              "    }\n",
              "</style>\n",
              "<table border=\"1\" class=\"dataframe\">\n",
              "  <thead>\n",
              "    <tr style=\"text-align: right;\">\n",
              "      <th></th>\n",
              "      <th>LVs number</th>\n",
              "      <th>R2 Cal</th>\n",
              "      <th>r2 Cal</th>\n",
              "      <th>RMSEC</th>\n",
              "      <th>R2 CV</th>\n",
              "      <th>r2 CV</th>\n",
              "      <th>RMSECV</th>\n",
              "      <th>Bias CV</th>\n",
              "      <th>tbias CV</th>\n",
              "      <th>RPD CV</th>\n",
              "      <th>RPIQ CV</th>\n",
              "      <th>R2 Pred</th>\n",
              "      <th>r2 Pred</th>\n",
              "      <th>RMSEP</th>\n",
              "      <th>Bias Pred</th>\n",
              "      <th>tbias Pred</th>\n",
              "      <th>RPD Pred</th>\n",
              "      <th>RPIQ Pred</th>\n",
              "    </tr>\n",
              "  </thead>\n",
              "  <tbody>\n",
              "    <tr>\n",
              "      <th>0</th>\n",
              "      <td>1</td>\n",
              "      <td>0.017207</td>\n",
              "      <td>0.017207</td>\n",
              "      <td>1.910426</td>\n",
              "      <td>-0.040232</td>\n",
              "      <td>0.001041</td>\n",
              "      <td>1.965461</td>\n",
              "      <td>0.026940</td>\n",
              "      <td>0.101662</td>\n",
              "      <td>0.989344</td>\n",
              "      <td>1.331749</td>\n",
              "      <td>-0.023421</td>\n",
              "      <td>0.021250</td>\n",
              "      <td>1.531159</td>\n",
              "      <td>-0.148376</td>\n",
              "      <td>0.466934</td>\n",
              "      <td>1.009751</td>\n",
              "      <td>1.281709</td>\n",
              "    </tr>\n",
              "    <tr>\n",
              "      <th>1</th>\n",
              "      <td>2</td>\n",
              "      <td>0.035196</td>\n",
              "      <td>0.035196</td>\n",
              "      <td>1.892861</td>\n",
              "      <td>-3.456953</td>\n",
              "      <td>0.001811</td>\n",
              "      <td>4.068349</td>\n",
              "      <td>0.446570</td>\n",
              "      <td>0.819003</td>\n",
              "      <td>0.477962</td>\n",
              "      <td>0.643381</td>\n",
              "      <td>-0.032633</td>\n",
              "      <td>0.000970</td>\n",
              "      <td>1.538035</td>\n",
              "      <td>-0.147776</td>\n",
              "      <td>0.462929</td>\n",
              "      <td>1.005237</td>\n",
              "      <td>1.275979</td>\n",
              "    </tr>\n",
              "    <tr>\n",
              "      <th>2</th>\n",
              "      <td>3</td>\n",
              "      <td>0.126685</td>\n",
              "      <td>0.126685</td>\n",
              "      <td>1.800880</td>\n",
              "      <td>-3.402412</td>\n",
              "      <td>0.002694</td>\n",
              "      <td>4.043380</td>\n",
              "      <td>0.516760</td>\n",
              "      <td>0.955656</td>\n",
              "      <td>0.480914</td>\n",
              "      <td>0.647355</td>\n",
              "      <td>0.057233</td>\n",
              "      <td>0.085894</td>\n",
              "      <td>1.469587</td>\n",
              "      <td>-0.199994</td>\n",
              "      <td>0.658787</td>\n",
              "      <td>1.052057</td>\n",
              "      <td>1.335409</td>\n",
              "    </tr>\n",
              "    <tr>\n",
              "      <th>3</th>\n",
              "      <td>4</td>\n",
              "      <td>0.166190</td>\n",
              "      <td>0.166190</td>\n",
              "      <td>1.759676</td>\n",
              "      <td>-7.304227</td>\n",
              "      <td>0.003436</td>\n",
              "      <td>5.553270</td>\n",
              "      <td>0.764164</td>\n",
              "      <td>1.030316</td>\n",
              "      <td>0.350157</td>\n",
              "      <td>0.471344</td>\n",
              "      <td>-0.018257</td>\n",
              "      <td>0.047561</td>\n",
              "      <td>1.527291</td>\n",
              "      <td>-0.201249</td>\n",
              "      <td>0.637500</td>\n",
              "      <td>1.012309</td>\n",
              "      <td>1.284955</td>\n",
              "    </tr>\n",
              "    <tr>\n",
              "      <th>4</th>\n",
              "      <td>5</td>\n",
              "      <td>0.191685</td>\n",
              "      <td>0.191685</td>\n",
              "      <td>1.732565</td>\n",
              "      <td>-7.722918</td>\n",
              "      <td>0.003160</td>\n",
              "      <td>5.691544</td>\n",
              "      <td>0.755401</td>\n",
              "      <td>0.993088</td>\n",
              "      <td>0.341650</td>\n",
              "      <td>0.459893</td>\n",
              "      <td>-0.058415</td>\n",
              "      <td>0.045949</td>\n",
              "      <td>1.557116</td>\n",
              "      <td>-0.134587</td>\n",
              "      <td>0.416077</td>\n",
              "      <td>0.992919</td>\n",
              "      <td>1.260343</td>\n",
              "    </tr>\n",
              "    <tr>\n",
              "      <th>5</th>\n",
              "      <td>6</td>\n",
              "      <td>0.222725</td>\n",
              "      <td>0.222725</td>\n",
              "      <td>1.698973</td>\n",
              "      <td>-2.542763</td>\n",
              "      <td>0.010018</td>\n",
              "      <td>3.627189</td>\n",
              "      <td>0.306625</td>\n",
              "      <td>0.629182</td>\n",
              "      <td>0.536095</td>\n",
              "      <td>0.721633</td>\n",
              "      <td>0.047456</td>\n",
              "      <td>0.085863</td>\n",
              "      <td>1.477188</td>\n",
              "      <td>-0.010368</td>\n",
              "      <td>0.033662</td>\n",
              "      <td>1.046644</td>\n",
              "      <td>1.328538</td>\n",
              "    </tr>\n",
              "    <tr>\n",
              "      <th>6</th>\n",
              "      <td>7</td>\n",
              "      <td>0.238541</td>\n",
              "      <td>0.238541</td>\n",
              "      <td>1.681599</td>\n",
              "      <td>-1.964792</td>\n",
              "      <td>0.012464</td>\n",
              "      <td>3.318152</td>\n",
              "      <td>0.150719</td>\n",
              "      <td>0.337210</td>\n",
              "      <td>0.586024</td>\n",
              "      <td>0.788843</td>\n",
              "      <td>0.125381</td>\n",
              "      <td>0.129684</td>\n",
              "      <td>1.415476</td>\n",
              "      <td>-0.019480</td>\n",
              "      <td>0.066008</td>\n",
              "      <td>1.092276</td>\n",
              "      <td>1.386460</td>\n",
              "    </tr>\n",
              "  </tbody>\n",
              "</table>\n",
              "</div>"
            ],
            "text/plain": [
              "   LVs number    R2 Cal    r2 Cal     RMSEC     R2 CV     r2 CV    RMSECV  \\\n",
              "0           1  0.017207  0.017207  1.910426 -0.040232  0.001041  1.965461   \n",
              "1           2  0.035196  0.035196  1.892861 -3.456953  0.001811  4.068349   \n",
              "2           3  0.126685  0.126685  1.800880 -3.402412  0.002694  4.043380   \n",
              "3           4  0.166190  0.166190  1.759676 -7.304227  0.003436  5.553270   \n",
              "4           5  0.191685  0.191685  1.732565 -7.722918  0.003160  5.691544   \n",
              "5           6  0.222725  0.222725  1.698973 -2.542763  0.010018  3.627189   \n",
              "6           7  0.238541  0.238541  1.681599 -1.964792  0.012464  3.318152   \n",
              "\n",
              "    Bias CV  tbias CV    RPD CV   RPIQ CV   R2 Pred   r2 Pred     RMSEP  \\\n",
              "0  0.026940  0.101662  0.989344  1.331749 -0.023421  0.021250  1.531159   \n",
              "1  0.446570  0.819003  0.477962  0.643381 -0.032633  0.000970  1.538035   \n",
              "2  0.516760  0.955656  0.480914  0.647355  0.057233  0.085894  1.469587   \n",
              "3  0.764164  1.030316  0.350157  0.471344 -0.018257  0.047561  1.527291   \n",
              "4  0.755401  0.993088  0.341650  0.459893 -0.058415  0.045949  1.557116   \n",
              "5  0.306625  0.629182  0.536095  0.721633  0.047456  0.085863  1.477188   \n",
              "6  0.150719  0.337210  0.586024  0.788843  0.125381  0.129684  1.415476   \n",
              "\n",
              "   Bias Pred  tbias Pred  RPD Pred  RPIQ Pred  \n",
              "0  -0.148376    0.466934  1.009751   1.281709  \n",
              "1  -0.147776    0.462929  1.005237   1.275979  \n",
              "2  -0.199994    0.658787  1.052057   1.335409  \n",
              "3  -0.201249    0.637500  1.012309   1.284955  \n",
              "4  -0.134587    0.416077  0.992919   1.260343  \n",
              "5  -0.010368    0.033662  1.046644   1.328538  \n",
              "6  -0.019480    0.066008  1.092276   1.386460  "
            ]
          },
          "execution_count": 125,
          "metadata": {},
          "output_type": "execute_result"
        }
      ],
      "source": [
        "overview_vis, calres_vis, LVscorescal_vis, predres_vis, LVscorespred_vis = df.modelo_individual_otimizado(Xcal=XcalVIS_pre,\n",
        "                                   ycal=Ycal,\n",
        "                                   target='exCa', \n",
        "                                   model='pls', #by using RF\n",
        "                                   Xpred=XpredVIS_pre, \n",
        "                                   ypred=Ypred,\n",
        "                                   maxLV=7,\n",
        "                                   LVscores=True)\n",
        "overview_vis"
      ]
    },
    {
      "cell_type": "code",
      "execution_count": 126,
      "metadata": {},
      "outputs": [
        {
          "data": {
            "application/vnd.microsoft.datawrangler.viewer.v0+json": {
              "columns": [
                {
                  "name": "index",
                  "rawType": "int64",
                  "type": "integer"
                },
                {
                  "name": "LVs number",
                  "rawType": "int64",
                  "type": "integer"
                },
                {
                  "name": "R2 Cal",
                  "rawType": "float64",
                  "type": "float"
                },
                {
                  "name": "r2 Cal",
                  "rawType": "float64",
                  "type": "float"
                },
                {
                  "name": "RMSEC",
                  "rawType": "float64",
                  "type": "float"
                },
                {
                  "name": "R2 CV",
                  "rawType": "float64",
                  "type": "float"
                },
                {
                  "name": "r2 CV",
                  "rawType": "float64",
                  "type": "float"
                },
                {
                  "name": "RMSECV",
                  "rawType": "float64",
                  "type": "float"
                },
                {
                  "name": "Bias CV",
                  "rawType": "float64",
                  "type": "float"
                },
                {
                  "name": "tbias CV",
                  "rawType": "float64",
                  "type": "float"
                },
                {
                  "name": "RPD CV",
                  "rawType": "float64",
                  "type": "float"
                },
                {
                  "name": "RPIQ CV",
                  "rawType": "float64",
                  "type": "float"
                },
                {
                  "name": "R2 Pred",
                  "rawType": "float64",
                  "type": "float"
                },
                {
                  "name": "r2 Pred",
                  "rawType": "float64",
                  "type": "float"
                },
                {
                  "name": "RMSEP",
                  "rawType": "float64",
                  "type": "float"
                },
                {
                  "name": "Bias Pred",
                  "rawType": "float64",
                  "type": "float"
                },
                {
                  "name": "tbias Pred",
                  "rawType": "float64",
                  "type": "float"
                },
                {
                  "name": "RPD Pred",
                  "rawType": "float64",
                  "type": "float"
                },
                {
                  "name": "RPIQ Pred",
                  "rawType": "float64",
                  "type": "float"
                }
              ],
              "conversionMethod": "pd.DataFrame",
              "ref": "e1b368b6-6f61-4043-972a-702e365f0bce",
              "rows": [
                [
                  "0",
                  "1",
                  "0.019263714936247123",
                  "0.01926371493624698",
                  "1.9084258666498308",
                  "-0.0137904734478278",
                  "0.001014161273812643",
                  "1.9403196213917637",
                  "-0.00025206758931934595",
                  "0.000963440904127749",
                  "1.0021634646025936",
                  "1.3490045511793078",
                  "0.025143841660283495",
                  "0.02666417759689149",
                  "1.4943878018811636",
                  "-0.020929191849705913",
                  "0.06717314153335138",
                  "1.0345975200771806",
                  "1.3132468008167413"
                ],
                [
                  "1",
                  "2",
                  "0.16836260805804382",
                  "0.16836260805804393",
                  "1.7573820105982665",
                  "0.057080212737406044",
                  "0.08034880837071852",
                  "1.871270397452135",
                  "-0.0009788119245391",
                  "0.003879217304384862",
                  "1.0391429463416717",
                  "1.398782347844496",
                  "0.07772450768660055",
                  "0.13427022502371005",
                  "1.4535279198974913",
                  "-0.1181988425489498",
                  "0.39128613994946904",
                  "1.0636809191590055",
                  "1.3501632635569902"
                ],
                [
                  "2",
                  "3",
                  "0.5444872659403595",
                  "0.5444872659403596",
                  "1.3006170224337805",
                  "0.3170414988818717",
                  "0.3283183453159303",
                  "1.5925619315919501",
                  "-0.034784543988444765",
                  "0.162022357661965",
                  "1.22099957033796",
                  "1.6435781542156456",
                  "0.0070461158069712315",
                  "0.1732122790999533",
                  "1.5081953020451615",
                  "0.02393701592556614",
                  "0.0761256561473448",
                  "1.0251257988692135",
                  "1.3012240505846868"
                ]
              ],
              "shape": {
                "columns": 18,
                "rows": 3
              }
            },
            "text/html": [
              "<div>\n",
              "<style scoped>\n",
              "    .dataframe tbody tr th:only-of-type {\n",
              "        vertical-align: middle;\n",
              "    }\n",
              "\n",
              "    .dataframe tbody tr th {\n",
              "        vertical-align: top;\n",
              "    }\n",
              "\n",
              "    .dataframe thead th {\n",
              "        text-align: right;\n",
              "    }\n",
              "</style>\n",
              "<table border=\"1\" class=\"dataframe\">\n",
              "  <thead>\n",
              "    <tr style=\"text-align: right;\">\n",
              "      <th></th>\n",
              "      <th>LVs number</th>\n",
              "      <th>R2 Cal</th>\n",
              "      <th>r2 Cal</th>\n",
              "      <th>RMSEC</th>\n",
              "      <th>R2 CV</th>\n",
              "      <th>r2 CV</th>\n",
              "      <th>RMSECV</th>\n",
              "      <th>Bias CV</th>\n",
              "      <th>tbias CV</th>\n",
              "      <th>RPD CV</th>\n",
              "      <th>RPIQ CV</th>\n",
              "      <th>R2 Pred</th>\n",
              "      <th>r2 Pred</th>\n",
              "      <th>RMSEP</th>\n",
              "      <th>Bias Pred</th>\n",
              "      <th>tbias Pred</th>\n",
              "      <th>RPD Pred</th>\n",
              "      <th>RPIQ Pred</th>\n",
              "    </tr>\n",
              "  </thead>\n",
              "  <tbody>\n",
              "    <tr>\n",
              "      <th>0</th>\n",
              "      <td>1</td>\n",
              "      <td>0.019264</td>\n",
              "      <td>0.019264</td>\n",
              "      <td>1.908426</td>\n",
              "      <td>-0.013790</td>\n",
              "      <td>0.001014</td>\n",
              "      <td>1.940320</td>\n",
              "      <td>-0.000252</td>\n",
              "      <td>0.000963</td>\n",
              "      <td>1.002163</td>\n",
              "      <td>1.349005</td>\n",
              "      <td>0.025144</td>\n",
              "      <td>0.026664</td>\n",
              "      <td>1.494388</td>\n",
              "      <td>-0.020929</td>\n",
              "      <td>0.067173</td>\n",
              "      <td>1.034598</td>\n",
              "      <td>1.313247</td>\n",
              "    </tr>\n",
              "    <tr>\n",
              "      <th>1</th>\n",
              "      <td>2</td>\n",
              "      <td>0.168363</td>\n",
              "      <td>0.168363</td>\n",
              "      <td>1.757382</td>\n",
              "      <td>0.057080</td>\n",
              "      <td>0.080349</td>\n",
              "      <td>1.871270</td>\n",
              "      <td>-0.000979</td>\n",
              "      <td>0.003879</td>\n",
              "      <td>1.039143</td>\n",
              "      <td>1.398782</td>\n",
              "      <td>0.077725</td>\n",
              "      <td>0.134270</td>\n",
              "      <td>1.453528</td>\n",
              "      <td>-0.118199</td>\n",
              "      <td>0.391286</td>\n",
              "      <td>1.063681</td>\n",
              "      <td>1.350163</td>\n",
              "    </tr>\n",
              "    <tr>\n",
              "      <th>2</th>\n",
              "      <td>3</td>\n",
              "      <td>0.544487</td>\n",
              "      <td>0.544487</td>\n",
              "      <td>1.300617</td>\n",
              "      <td>0.317041</td>\n",
              "      <td>0.328318</td>\n",
              "      <td>1.592562</td>\n",
              "      <td>-0.034785</td>\n",
              "      <td>0.162022</td>\n",
              "      <td>1.221000</td>\n",
              "      <td>1.643578</td>\n",
              "      <td>0.007046</td>\n",
              "      <td>0.173212</td>\n",
              "      <td>1.508195</td>\n",
              "      <td>0.023937</td>\n",
              "      <td>0.076126</td>\n",
              "      <td>1.025126</td>\n",
              "      <td>1.301224</td>\n",
              "    </tr>\n",
              "  </tbody>\n",
              "</table>\n",
              "</div>"
            ],
            "text/plain": [
              "   LVs number    R2 Cal    r2 Cal     RMSEC     R2 CV     r2 CV    RMSECV  \\\n",
              "0           1  0.019264  0.019264  1.908426 -0.013790  0.001014  1.940320   \n",
              "1           2  0.168363  0.168363  1.757382  0.057080  0.080349  1.871270   \n",
              "2           3  0.544487  0.544487  1.300617  0.317041  0.328318  1.592562   \n",
              "\n",
              "    Bias CV  tbias CV    RPD CV   RPIQ CV   R2 Pred   r2 Pred     RMSEP  \\\n",
              "0 -0.000252  0.000963  1.002163  1.349005  0.025144  0.026664  1.494388   \n",
              "1 -0.000979  0.003879  1.039143  1.398782  0.077725  0.134270  1.453528   \n",
              "2 -0.034785  0.162022  1.221000  1.643578  0.007046  0.173212  1.508195   \n",
              "\n",
              "   Bias Pred  tbias Pred  RPD Pred  RPIQ Pred  \n",
              "0  -0.020929    0.067173  1.034598   1.313247  \n",
              "1  -0.118199    0.391286  1.063681   1.350163  \n",
              "2   0.023937    0.076126  1.025126   1.301224  "
            ]
          },
          "execution_count": 126,
          "metadata": {},
          "output_type": "execute_result"
        }
      ],
      "source": [
        "overview_grs, calres_grs, LVscorescal_grs, predres_grs, LVscorespred_grs = df.modelo_individual_otimizado(Xcal=XcalGRS_pre,\n",
        "                                   ycal=Ycal,\n",
        "                                   target='exCa', \n",
        "                                   model='pls', #by using RF\n",
        "                                   Xpred=XpredGRS_pre, \n",
        "                                   ypred=Ypred,\n",
        "                                   maxLV=3,\n",
        "                                   LVscores=True)\n",
        "overview_grs"
      ]
    },
    {
      "cell_type": "markdown",
      "metadata": {},
      "source": [
        "# **mid-level data fusion**\n",
        "\n",
        "Dictionaries (**cal** and **pred**) whose keys contain the individual LV scores of each sensor must be inputed. Then, MLR models will be constructed for all combinations between the keys."
      ]
    },
    {
      "cell_type": "code",
      "execution_count": 127,
      "metadata": {},
      "outputs": [],
      "source": [
        "import automated_datafusion as df\n",
        "scorescal_dict = {\n",
        "    'xrf': LVscorescal_xrf,\n",
        "    'nir': LVscorescal_nir,\n",
        "    'vis': LVscorescal_vis,\n",
        "    'grs': LVscorescal_grs\n",
        "}\n",
        "\n",
        "scorespred_dict = {\n",
        "    'xrf': LVscorespred_xrf,\n",
        "    'nir': LVscorespred_nir,\n",
        "    'vis': LVscorespred_vis,\n",
        "    'grs': LVscorespred_grs\n",
        "}\n",
        "\n",
        "results_mid_level = df.mid_level_fusion_automatizado(scorescal_dict, scorespred_dict,Ycal,Ypred, target='exCa')"
      ]
    },
    {
      "cell_type": "code",
      "execution_count": 128,
      "metadata": {},
      "outputs": [
        {
          "data": {
            "application/vnd.microsoft.datawrangler.viewer.v0+json": {
              "columns": [
                {
                  "name": "index",
                  "rawType": "int64",
                  "type": "integer"
                },
                {
                  "name": "Combination",
                  "rawType": "object",
                  "type": "string"
                },
                {
                  "name": "R2 Cal",
                  "rawType": "float64",
                  "type": "float"
                },
                {
                  "name": "r2 Cal",
                  "rawType": "float64",
                  "type": "float"
                },
                {
                  "name": "RMSEC",
                  "rawType": "float64",
                  "type": "float"
                },
                {
                  "name": "R2 Pred",
                  "rawType": "float64",
                  "type": "float"
                },
                {
                  "name": "r2_pred",
                  "rawType": "float64",
                  "type": "float"
                },
                {
                  "name": "RMSEP",
                  "rawType": "float64",
                  "type": "float"
                },
                {
                  "name": "Bias Pred",
                  "rawType": "float64",
                  "type": "float"
                },
                {
                  "name": "tbias Pred",
                  "rawType": "float64",
                  "type": "float"
                },
                {
                  "name": "RPD Pred",
                  "rawType": "float64",
                  "type": "float"
                },
                {
                  "name": "RPIQ Pred",
                  "rawType": "float64",
                  "type": "float"
                }
              ],
              "conversionMethod": "pd.DataFrame",
              "ref": "425cf7cb-8c5a-4a3f-b3c1-77542ee6685d",
              "rows": [
                [
                  "1",
                  "xrf_vis",
                  "0.6866552311555675",
                  "0.6866552311555676",
                  "1.078724138298947",
                  "0.7074601082397192",
                  "0.7820417110995056",
                  "0.8186261100372103",
                  "-0.1251199107607217",
                  "0.7417159246669756",
                  "1.8488745816959549",
                  "2.3973093161062207"
                ],
                [
                  "2",
                  "xrf_grs",
                  "0.7539080137968004",
                  "0.7539080137968001",
                  "0.9559780227858465",
                  "0.6565496985287635",
                  "0.6645689986311318",
                  "0.8870028088604285",
                  "0.02726960529282969",
                  "0.14751056004150753",
                  "1.7063497337792441",
                  "2.212507086106424"
                ],
                [
                  "8",
                  "xrf_vis_grs",
                  "0.7770888658361137",
                  "0.7770888658361136",
                  "0.9098400569661761",
                  "0.6446673716208722",
                  "0.6455936671799898",
                  "0.9022161322715617",
                  "-0.03882816014082673",
                  "0.20658686279992172",
                  "1.6775769714399966",
                  "2.1751994115411133"
                ],
                [
                  "7",
                  "xrf_nir_grs",
                  "0.8455342348015886",
                  "0.8455342348015888",
                  "0.7573825462276444",
                  "0.5868574028144535",
                  "0.6244159011689637",
                  "0.9728436126479186",
                  "-0.2924707188736064",
                  "1.5117277859808134",
                  "1.555786548920065",
                  "2.0172820939414935"
                ],
                [
                  "0",
                  "xrf_nir",
                  "0.8341572080870654",
                  "0.8341572080870657",
                  "0.7847791798882146",
                  "0.569877778863007",
                  "0.6233835576221528",
                  "0.9926336282530084",
                  "-0.3497486051978411",
                  "1.805573438281305",
                  "1.5247690222063024",
                  "1.9770637868212406"
                ],
                [
                  "6",
                  "xrf_nir_vis",
                  "0.8457223083501924",
                  "0.8457223083501918",
                  "0.7569213210225728",
                  "0.5479048093792425",
                  "0.5833429305322078",
                  "1.0176723797693124",
                  "-0.2804800416097212",
                  "1.3750314479302765",
                  "1.4872536946551747",
                  "1.9284202254215281"
                ],
                [
                  "10",
                  "xrf_nir_vis_grs",
                  "0.8606196900084706",
                  "0.860619690008471",
                  "0.7194487884862331",
                  "0.47323334581748044",
                  "0.521565836464984",
                  "1.098505363422209",
                  "-0.25133131358797306",
                  "1.1271548518455738",
                  "1.377814853853115",
                  "1.7865183597157515"
                ],
                [
                  "4",
                  "nir_grs",
                  "0.7553020810518137",
                  "0.7553020810518135",
                  "0.9532664546092783",
                  "0.15671615571199415",
                  "0.3281416968595485",
                  "1.3898884124926263",
                  "-0.39825981621956913",
                  "1.4343466632093382",
                  "1.0889629650527528",
                  "1.411983855941681"
                ],
                [
                  "3",
                  "nir_vis",
                  "0.7291086796656336",
                  "0.729108679665634",
                  "1.0029902644223412",
                  "0.14182306894916075",
                  "0.30099206808818907",
                  "1.4021079833638332",
                  "-0.35267670319879313",
                  "1.246383726592789",
                  "1.0794724976383547",
                  "1.399678215433676"
                ],
                [
                  "9",
                  "nir_vis_grs",
                  "0.7821639172898602",
                  "0.7821639172898601",
                  "0.8994231920284997",
                  "0.11344730188810637",
                  "0.31422062704519094",
                  "1.4250999409257443",
                  "-0.353185395573779",
                  "1.2268341295461886",
                  "1.0620567465445552",
                  "1.377096401200579"
                ],
                [
                  "5",
                  "vis_grs",
                  "0.6276913899369403",
                  "0.6276913899369404",
                  "1.175846721223601",
                  "0.07161241615826708",
                  "0.24765792191924657",
                  "1.458336366610064",
                  "-0.04416064283892535",
                  "0.1452917008138016",
                  "1.0378517888014307",
                  "1.345711486686625"
                ]
              ],
              "shape": {
                "columns": 11,
                "rows": 11
              }
            },
            "text/html": [
              "<div>\n",
              "<style scoped>\n",
              "    .dataframe tbody tr th:only-of-type {\n",
              "        vertical-align: middle;\n",
              "    }\n",
              "\n",
              "    .dataframe tbody tr th {\n",
              "        vertical-align: top;\n",
              "    }\n",
              "\n",
              "    .dataframe thead th {\n",
              "        text-align: right;\n",
              "    }\n",
              "</style>\n",
              "<table border=\"1\" class=\"dataframe\">\n",
              "  <thead>\n",
              "    <tr style=\"text-align: right;\">\n",
              "      <th></th>\n",
              "      <th>Combination</th>\n",
              "      <th>R2 Cal</th>\n",
              "      <th>r2 Cal</th>\n",
              "      <th>RMSEC</th>\n",
              "      <th>R2 Pred</th>\n",
              "      <th>r2_pred</th>\n",
              "      <th>RMSEP</th>\n",
              "      <th>Bias Pred</th>\n",
              "      <th>tbias Pred</th>\n",
              "      <th>RPD Pred</th>\n",
              "      <th>RPIQ Pred</th>\n",
              "    </tr>\n",
              "  </thead>\n",
              "  <tbody>\n",
              "    <tr>\n",
              "      <th>1</th>\n",
              "      <td>xrf_vis</td>\n",
              "      <td>0.686655</td>\n",
              "      <td>0.686655</td>\n",
              "      <td>1.078724</td>\n",
              "      <td>0.707460</td>\n",
              "      <td>0.782042</td>\n",
              "      <td>0.818626</td>\n",
              "      <td>-0.125120</td>\n",
              "      <td>0.741716</td>\n",
              "      <td>1.848875</td>\n",
              "      <td>2.397309</td>\n",
              "    </tr>\n",
              "    <tr>\n",
              "      <th>2</th>\n",
              "      <td>xrf_grs</td>\n",
              "      <td>0.753908</td>\n",
              "      <td>0.753908</td>\n",
              "      <td>0.955978</td>\n",
              "      <td>0.656550</td>\n",
              "      <td>0.664569</td>\n",
              "      <td>0.887003</td>\n",
              "      <td>0.027270</td>\n",
              "      <td>0.147511</td>\n",
              "      <td>1.706350</td>\n",
              "      <td>2.212507</td>\n",
              "    </tr>\n",
              "    <tr>\n",
              "      <th>8</th>\n",
              "      <td>xrf_vis_grs</td>\n",
              "      <td>0.777089</td>\n",
              "      <td>0.777089</td>\n",
              "      <td>0.909840</td>\n",
              "      <td>0.644667</td>\n",
              "      <td>0.645594</td>\n",
              "      <td>0.902216</td>\n",
              "      <td>-0.038828</td>\n",
              "      <td>0.206587</td>\n",
              "      <td>1.677577</td>\n",
              "      <td>2.175199</td>\n",
              "    </tr>\n",
              "    <tr>\n",
              "      <th>7</th>\n",
              "      <td>xrf_nir_grs</td>\n",
              "      <td>0.845534</td>\n",
              "      <td>0.845534</td>\n",
              "      <td>0.757383</td>\n",
              "      <td>0.586857</td>\n",
              "      <td>0.624416</td>\n",
              "      <td>0.972844</td>\n",
              "      <td>-0.292471</td>\n",
              "      <td>1.511728</td>\n",
              "      <td>1.555787</td>\n",
              "      <td>2.017282</td>\n",
              "    </tr>\n",
              "    <tr>\n",
              "      <th>0</th>\n",
              "      <td>xrf_nir</td>\n",
              "      <td>0.834157</td>\n",
              "      <td>0.834157</td>\n",
              "      <td>0.784779</td>\n",
              "      <td>0.569878</td>\n",
              "      <td>0.623384</td>\n",
              "      <td>0.992634</td>\n",
              "      <td>-0.349749</td>\n",
              "      <td>1.805573</td>\n",
              "      <td>1.524769</td>\n",
              "      <td>1.977064</td>\n",
              "    </tr>\n",
              "    <tr>\n",
              "      <th>6</th>\n",
              "      <td>xrf_nir_vis</td>\n",
              "      <td>0.845722</td>\n",
              "      <td>0.845722</td>\n",
              "      <td>0.756921</td>\n",
              "      <td>0.547905</td>\n",
              "      <td>0.583343</td>\n",
              "      <td>1.017672</td>\n",
              "      <td>-0.280480</td>\n",
              "      <td>1.375031</td>\n",
              "      <td>1.487254</td>\n",
              "      <td>1.928420</td>\n",
              "    </tr>\n",
              "    <tr>\n",
              "      <th>10</th>\n",
              "      <td>xrf_nir_vis_grs</td>\n",
              "      <td>0.860620</td>\n",
              "      <td>0.860620</td>\n",
              "      <td>0.719449</td>\n",
              "      <td>0.473233</td>\n",
              "      <td>0.521566</td>\n",
              "      <td>1.098505</td>\n",
              "      <td>-0.251331</td>\n",
              "      <td>1.127155</td>\n",
              "      <td>1.377815</td>\n",
              "      <td>1.786518</td>\n",
              "    </tr>\n",
              "    <tr>\n",
              "      <th>4</th>\n",
              "      <td>nir_grs</td>\n",
              "      <td>0.755302</td>\n",
              "      <td>0.755302</td>\n",
              "      <td>0.953266</td>\n",
              "      <td>0.156716</td>\n",
              "      <td>0.328142</td>\n",
              "      <td>1.389888</td>\n",
              "      <td>-0.398260</td>\n",
              "      <td>1.434347</td>\n",
              "      <td>1.088963</td>\n",
              "      <td>1.411984</td>\n",
              "    </tr>\n",
              "    <tr>\n",
              "      <th>3</th>\n",
              "      <td>nir_vis</td>\n",
              "      <td>0.729109</td>\n",
              "      <td>0.729109</td>\n",
              "      <td>1.002990</td>\n",
              "      <td>0.141823</td>\n",
              "      <td>0.300992</td>\n",
              "      <td>1.402108</td>\n",
              "      <td>-0.352677</td>\n",
              "      <td>1.246384</td>\n",
              "      <td>1.079472</td>\n",
              "      <td>1.399678</td>\n",
              "    </tr>\n",
              "    <tr>\n",
              "      <th>9</th>\n",
              "      <td>nir_vis_grs</td>\n",
              "      <td>0.782164</td>\n",
              "      <td>0.782164</td>\n",
              "      <td>0.899423</td>\n",
              "      <td>0.113447</td>\n",
              "      <td>0.314221</td>\n",
              "      <td>1.425100</td>\n",
              "      <td>-0.353185</td>\n",
              "      <td>1.226834</td>\n",
              "      <td>1.062057</td>\n",
              "      <td>1.377096</td>\n",
              "    </tr>\n",
              "    <tr>\n",
              "      <th>5</th>\n",
              "      <td>vis_grs</td>\n",
              "      <td>0.627691</td>\n",
              "      <td>0.627691</td>\n",
              "      <td>1.175847</td>\n",
              "      <td>0.071612</td>\n",
              "      <td>0.247658</td>\n",
              "      <td>1.458336</td>\n",
              "      <td>-0.044161</td>\n",
              "      <td>0.145292</td>\n",
              "      <td>1.037852</td>\n",
              "      <td>1.345711</td>\n",
              "    </tr>\n",
              "  </tbody>\n",
              "</table>\n",
              "</div>"
            ],
            "text/plain": [
              "        Combination    R2 Cal    r2 Cal     RMSEC   R2 Pred   r2_pred  \\\n",
              "1           xrf_vis  0.686655  0.686655  1.078724  0.707460  0.782042   \n",
              "2           xrf_grs  0.753908  0.753908  0.955978  0.656550  0.664569   \n",
              "8       xrf_vis_grs  0.777089  0.777089  0.909840  0.644667  0.645594   \n",
              "7       xrf_nir_grs  0.845534  0.845534  0.757383  0.586857  0.624416   \n",
              "0           xrf_nir  0.834157  0.834157  0.784779  0.569878  0.623384   \n",
              "6       xrf_nir_vis  0.845722  0.845722  0.756921  0.547905  0.583343   \n",
              "10  xrf_nir_vis_grs  0.860620  0.860620  0.719449  0.473233  0.521566   \n",
              "4           nir_grs  0.755302  0.755302  0.953266  0.156716  0.328142   \n",
              "3           nir_vis  0.729109  0.729109  1.002990  0.141823  0.300992   \n",
              "9       nir_vis_grs  0.782164  0.782164  0.899423  0.113447  0.314221   \n",
              "5           vis_grs  0.627691  0.627691  1.175847  0.071612  0.247658   \n",
              "\n",
              "       RMSEP  Bias Pred  tbias Pred  RPD Pred  RPIQ Pred  \n",
              "1   0.818626  -0.125120    0.741716  1.848875   2.397309  \n",
              "2   0.887003   0.027270    0.147511  1.706350   2.212507  \n",
              "8   0.902216  -0.038828    0.206587  1.677577   2.175199  \n",
              "7   0.972844  -0.292471    1.511728  1.555787   2.017282  \n",
              "0   0.992634  -0.349749    1.805573  1.524769   1.977064  \n",
              "6   1.017672  -0.280480    1.375031  1.487254   1.928420  \n",
              "10  1.098505  -0.251331    1.127155  1.377815   1.786518  \n",
              "4   1.389888  -0.398260    1.434347  1.088963   1.411984  \n",
              "3   1.402108  -0.352677    1.246384  1.079472   1.399678  \n",
              "9   1.425100  -0.353185    1.226834  1.062057   1.377096  \n",
              "5   1.458336  -0.044161    0.145292  1.037852   1.345711  "
            ]
          },
          "execution_count": 128,
          "metadata": {},
          "output_type": "execute_result"
        }
      ],
      "source": [
        "rows = []\n",
        "\n",
        "for combination in results_mid_level.keys():\n",
        "    row = {\n",
        "        'Combination': combination,\n",
        "    }\n",
        "    row.update(results_mid_level[combination]['metrics'])\n",
        "    \n",
        "    rows.append(row)\n",
        "\n",
        "metrics_mid_level = pd.DataFrame(rows)\n",
        "metrics_mid_level.sort_values('RMSEP', axis=0, ascending=True)\n"
      ]
    },
    {
      "cell_type": "code",
      "execution_count": 129,
      "metadata": {},
      "outputs": [
        {
          "data": {
            "application/vnd.plotly.v1+json": {
              "config": {
                "plotlyServerURL": "https://plot.ly"
              },
              "data": [
                {
                  "alignmentgroup": "True",
                  "hovertemplate": "Combination=%{x}<br>RMSEP=%{y}<extra></extra>",
                  "legendgroup": "xrf_nir",
                  "marker": {
                    "color": "#636efa",
                    "pattern": {
                      "shape": ""
                    }
                  },
                  "name": "xrf_nir",
                  "offsetgroup": "xrf_nir",
                  "orientation": "v",
                  "showlegend": true,
                  "textposition": "auto",
                  "type": "bar",
                  "x": [
                    "xrf_nir"
                  ],
                  "xaxis": "x",
                  "y": [
                    0.9926336282530084
                  ],
                  "yaxis": "y"
                },
                {
                  "alignmentgroup": "True",
                  "hovertemplate": "Combination=%{x}<br>RMSEP=%{y}<extra></extra>",
                  "legendgroup": "xrf_vis",
                  "marker": {
                    "color": "#EF553B",
                    "pattern": {
                      "shape": ""
                    }
                  },
                  "name": "xrf_vis",
                  "offsetgroup": "xrf_vis",
                  "orientation": "v",
                  "showlegend": true,
                  "textposition": "auto",
                  "type": "bar",
                  "x": [
                    "xrf_vis"
                  ],
                  "xaxis": "x",
                  "y": [
                    0.8186261100372103
                  ],
                  "yaxis": "y"
                },
                {
                  "alignmentgroup": "True",
                  "hovertemplate": "Combination=%{x}<br>RMSEP=%{y}<extra></extra>",
                  "legendgroup": "xrf_grs",
                  "marker": {
                    "color": "#00cc96",
                    "pattern": {
                      "shape": ""
                    }
                  },
                  "name": "xrf_grs",
                  "offsetgroup": "xrf_grs",
                  "orientation": "v",
                  "showlegend": true,
                  "textposition": "auto",
                  "type": "bar",
                  "x": [
                    "xrf_grs"
                  ],
                  "xaxis": "x",
                  "y": [
                    0.8870028088604285
                  ],
                  "yaxis": "y"
                },
                {
                  "alignmentgroup": "True",
                  "hovertemplate": "Combination=%{x}<br>RMSEP=%{y}<extra></extra>",
                  "legendgroup": "nir_vis",
                  "marker": {
                    "color": "#ab63fa",
                    "pattern": {
                      "shape": ""
                    }
                  },
                  "name": "nir_vis",
                  "offsetgroup": "nir_vis",
                  "orientation": "v",
                  "showlegend": true,
                  "textposition": "auto",
                  "type": "bar",
                  "x": [
                    "nir_vis"
                  ],
                  "xaxis": "x",
                  "y": [
                    1.4021079833638332
                  ],
                  "yaxis": "y"
                },
                {
                  "alignmentgroup": "True",
                  "hovertemplate": "Combination=%{x}<br>RMSEP=%{y}<extra></extra>",
                  "legendgroup": "nir_grs",
                  "marker": {
                    "color": "#FFA15A",
                    "pattern": {
                      "shape": ""
                    }
                  },
                  "name": "nir_grs",
                  "offsetgroup": "nir_grs",
                  "orientation": "v",
                  "showlegend": true,
                  "textposition": "auto",
                  "type": "bar",
                  "x": [
                    "nir_grs"
                  ],
                  "xaxis": "x",
                  "y": [
                    1.3898884124926263
                  ],
                  "yaxis": "y"
                },
                {
                  "alignmentgroup": "True",
                  "hovertemplate": "Combination=%{x}<br>RMSEP=%{y}<extra></extra>",
                  "legendgroup": "vis_grs",
                  "marker": {
                    "color": "#19d3f3",
                    "pattern": {
                      "shape": ""
                    }
                  },
                  "name": "vis_grs",
                  "offsetgroup": "vis_grs",
                  "orientation": "v",
                  "showlegend": true,
                  "textposition": "auto",
                  "type": "bar",
                  "x": [
                    "vis_grs"
                  ],
                  "xaxis": "x",
                  "y": [
                    1.458336366610064
                  ],
                  "yaxis": "y"
                },
                {
                  "alignmentgroup": "True",
                  "hovertemplate": "Combination=%{x}<br>RMSEP=%{y}<extra></extra>",
                  "legendgroup": "xrf_nir_vis",
                  "marker": {
                    "color": "#FF6692",
                    "pattern": {
                      "shape": ""
                    }
                  },
                  "name": "xrf_nir_vis",
                  "offsetgroup": "xrf_nir_vis",
                  "orientation": "v",
                  "showlegend": true,
                  "textposition": "auto",
                  "type": "bar",
                  "x": [
                    "xrf_nir_vis"
                  ],
                  "xaxis": "x",
                  "y": [
                    1.0176723797693124
                  ],
                  "yaxis": "y"
                },
                {
                  "alignmentgroup": "True",
                  "hovertemplate": "Combination=%{x}<br>RMSEP=%{y}<extra></extra>",
                  "legendgroup": "xrf_nir_grs",
                  "marker": {
                    "color": "#B6E880",
                    "pattern": {
                      "shape": ""
                    }
                  },
                  "name": "xrf_nir_grs",
                  "offsetgroup": "xrf_nir_grs",
                  "orientation": "v",
                  "showlegend": true,
                  "textposition": "auto",
                  "type": "bar",
                  "x": [
                    "xrf_nir_grs"
                  ],
                  "xaxis": "x",
                  "y": [
                    0.9728436126479186
                  ],
                  "yaxis": "y"
                },
                {
                  "alignmentgroup": "True",
                  "hovertemplate": "Combination=%{x}<br>RMSEP=%{y}<extra></extra>",
                  "legendgroup": "xrf_vis_grs",
                  "marker": {
                    "color": "#FF97FF",
                    "pattern": {
                      "shape": ""
                    }
                  },
                  "name": "xrf_vis_grs",
                  "offsetgroup": "xrf_vis_grs",
                  "orientation": "v",
                  "showlegend": true,
                  "textposition": "auto",
                  "type": "bar",
                  "x": [
                    "xrf_vis_grs"
                  ],
                  "xaxis": "x",
                  "y": [
                    0.9022161322715617
                  ],
                  "yaxis": "y"
                },
                {
                  "alignmentgroup": "True",
                  "hovertemplate": "Combination=%{x}<br>RMSEP=%{y}<extra></extra>",
                  "legendgroup": "nir_vis_grs",
                  "marker": {
                    "color": "#FECB52",
                    "pattern": {
                      "shape": ""
                    }
                  },
                  "name": "nir_vis_grs",
                  "offsetgroup": "nir_vis_grs",
                  "orientation": "v",
                  "showlegend": true,
                  "textposition": "auto",
                  "type": "bar",
                  "x": [
                    "nir_vis_grs"
                  ],
                  "xaxis": "x",
                  "y": [
                    1.4250999409257443
                  ],
                  "yaxis": "y"
                },
                {
                  "alignmentgroup": "True",
                  "hovertemplate": "Combination=%{x}<br>RMSEP=%{y}<extra></extra>",
                  "legendgroup": "xrf_nir_vis_grs",
                  "marker": {
                    "color": "#636efa",
                    "pattern": {
                      "shape": ""
                    }
                  },
                  "name": "xrf_nir_vis_grs",
                  "offsetgroup": "xrf_nir_vis_grs",
                  "orientation": "v",
                  "showlegend": true,
                  "textposition": "auto",
                  "type": "bar",
                  "x": [
                    "xrf_nir_vis_grs"
                  ],
                  "xaxis": "x",
                  "y": [
                    1.098505363422209
                  ],
                  "yaxis": "y"
                }
              ],
              "layout": {
                "barmode": "relative",
                "legend": {
                  "title": {
                    "text": "Combination"
                  },
                  "tracegroupgap": 0
                },
                "template": {
                  "data": {
                    "bar": [
                      {
                        "error_x": {
                          "color": "#2a3f5f"
                        },
                        "error_y": {
                          "color": "#2a3f5f"
                        },
                        "marker": {
                          "line": {
                            "color": "#E5ECF6",
                            "width": 0.5
                          },
                          "pattern": {
                            "fillmode": "overlay",
                            "size": 10,
                            "solidity": 0.2
                          }
                        },
                        "type": "bar"
                      }
                    ],
                    "barpolar": [
                      {
                        "marker": {
                          "line": {
                            "color": "#E5ECF6",
                            "width": 0.5
                          },
                          "pattern": {
                            "fillmode": "overlay",
                            "size": 10,
                            "solidity": 0.2
                          }
                        },
                        "type": "barpolar"
                      }
                    ],
                    "carpet": [
                      {
                        "aaxis": {
                          "endlinecolor": "#2a3f5f",
                          "gridcolor": "white",
                          "linecolor": "white",
                          "minorgridcolor": "white",
                          "startlinecolor": "#2a3f5f"
                        },
                        "baxis": {
                          "endlinecolor": "#2a3f5f",
                          "gridcolor": "white",
                          "linecolor": "white",
                          "minorgridcolor": "white",
                          "startlinecolor": "#2a3f5f"
                        },
                        "type": "carpet"
                      }
                    ],
                    "choropleth": [
                      {
                        "colorbar": {
                          "outlinewidth": 0,
                          "ticks": ""
                        },
                        "type": "choropleth"
                      }
                    ],
                    "contour": [
                      {
                        "colorbar": {
                          "outlinewidth": 0,
                          "ticks": ""
                        },
                        "colorscale": [
                          [
                            0,
                            "#0d0887"
                          ],
                          [
                            0.1111111111111111,
                            "#46039f"
                          ],
                          [
                            0.2222222222222222,
                            "#7201a8"
                          ],
                          [
                            0.3333333333333333,
                            "#9c179e"
                          ],
                          [
                            0.4444444444444444,
                            "#bd3786"
                          ],
                          [
                            0.5555555555555556,
                            "#d8576b"
                          ],
                          [
                            0.6666666666666666,
                            "#ed7953"
                          ],
                          [
                            0.7777777777777778,
                            "#fb9f3a"
                          ],
                          [
                            0.8888888888888888,
                            "#fdca26"
                          ],
                          [
                            1,
                            "#f0f921"
                          ]
                        ],
                        "type": "contour"
                      }
                    ],
                    "contourcarpet": [
                      {
                        "colorbar": {
                          "outlinewidth": 0,
                          "ticks": ""
                        },
                        "type": "contourcarpet"
                      }
                    ],
                    "heatmap": [
                      {
                        "colorbar": {
                          "outlinewidth": 0,
                          "ticks": ""
                        },
                        "colorscale": [
                          [
                            0,
                            "#0d0887"
                          ],
                          [
                            0.1111111111111111,
                            "#46039f"
                          ],
                          [
                            0.2222222222222222,
                            "#7201a8"
                          ],
                          [
                            0.3333333333333333,
                            "#9c179e"
                          ],
                          [
                            0.4444444444444444,
                            "#bd3786"
                          ],
                          [
                            0.5555555555555556,
                            "#d8576b"
                          ],
                          [
                            0.6666666666666666,
                            "#ed7953"
                          ],
                          [
                            0.7777777777777778,
                            "#fb9f3a"
                          ],
                          [
                            0.8888888888888888,
                            "#fdca26"
                          ],
                          [
                            1,
                            "#f0f921"
                          ]
                        ],
                        "type": "heatmap"
                      }
                    ],
                    "heatmapgl": [
                      {
                        "colorbar": {
                          "outlinewidth": 0,
                          "ticks": ""
                        },
                        "colorscale": [
                          [
                            0,
                            "#0d0887"
                          ],
                          [
                            0.1111111111111111,
                            "#46039f"
                          ],
                          [
                            0.2222222222222222,
                            "#7201a8"
                          ],
                          [
                            0.3333333333333333,
                            "#9c179e"
                          ],
                          [
                            0.4444444444444444,
                            "#bd3786"
                          ],
                          [
                            0.5555555555555556,
                            "#d8576b"
                          ],
                          [
                            0.6666666666666666,
                            "#ed7953"
                          ],
                          [
                            0.7777777777777778,
                            "#fb9f3a"
                          ],
                          [
                            0.8888888888888888,
                            "#fdca26"
                          ],
                          [
                            1,
                            "#f0f921"
                          ]
                        ],
                        "type": "heatmapgl"
                      }
                    ],
                    "histogram": [
                      {
                        "marker": {
                          "pattern": {
                            "fillmode": "overlay",
                            "size": 10,
                            "solidity": 0.2
                          }
                        },
                        "type": "histogram"
                      }
                    ],
                    "histogram2d": [
                      {
                        "colorbar": {
                          "outlinewidth": 0,
                          "ticks": ""
                        },
                        "colorscale": [
                          [
                            0,
                            "#0d0887"
                          ],
                          [
                            0.1111111111111111,
                            "#46039f"
                          ],
                          [
                            0.2222222222222222,
                            "#7201a8"
                          ],
                          [
                            0.3333333333333333,
                            "#9c179e"
                          ],
                          [
                            0.4444444444444444,
                            "#bd3786"
                          ],
                          [
                            0.5555555555555556,
                            "#d8576b"
                          ],
                          [
                            0.6666666666666666,
                            "#ed7953"
                          ],
                          [
                            0.7777777777777778,
                            "#fb9f3a"
                          ],
                          [
                            0.8888888888888888,
                            "#fdca26"
                          ],
                          [
                            1,
                            "#f0f921"
                          ]
                        ],
                        "type": "histogram2d"
                      }
                    ],
                    "histogram2dcontour": [
                      {
                        "colorbar": {
                          "outlinewidth": 0,
                          "ticks": ""
                        },
                        "colorscale": [
                          [
                            0,
                            "#0d0887"
                          ],
                          [
                            0.1111111111111111,
                            "#46039f"
                          ],
                          [
                            0.2222222222222222,
                            "#7201a8"
                          ],
                          [
                            0.3333333333333333,
                            "#9c179e"
                          ],
                          [
                            0.4444444444444444,
                            "#bd3786"
                          ],
                          [
                            0.5555555555555556,
                            "#d8576b"
                          ],
                          [
                            0.6666666666666666,
                            "#ed7953"
                          ],
                          [
                            0.7777777777777778,
                            "#fb9f3a"
                          ],
                          [
                            0.8888888888888888,
                            "#fdca26"
                          ],
                          [
                            1,
                            "#f0f921"
                          ]
                        ],
                        "type": "histogram2dcontour"
                      }
                    ],
                    "mesh3d": [
                      {
                        "colorbar": {
                          "outlinewidth": 0,
                          "ticks": ""
                        },
                        "type": "mesh3d"
                      }
                    ],
                    "parcoords": [
                      {
                        "line": {
                          "colorbar": {
                            "outlinewidth": 0,
                            "ticks": ""
                          }
                        },
                        "type": "parcoords"
                      }
                    ],
                    "pie": [
                      {
                        "automargin": true,
                        "type": "pie"
                      }
                    ],
                    "scatter": [
                      {
                        "fillpattern": {
                          "fillmode": "overlay",
                          "size": 10,
                          "solidity": 0.2
                        },
                        "type": "scatter"
                      }
                    ],
                    "scatter3d": [
                      {
                        "line": {
                          "colorbar": {
                            "outlinewidth": 0,
                            "ticks": ""
                          }
                        },
                        "marker": {
                          "colorbar": {
                            "outlinewidth": 0,
                            "ticks": ""
                          }
                        },
                        "type": "scatter3d"
                      }
                    ],
                    "scattercarpet": [
                      {
                        "marker": {
                          "colorbar": {
                            "outlinewidth": 0,
                            "ticks": ""
                          }
                        },
                        "type": "scattercarpet"
                      }
                    ],
                    "scattergeo": [
                      {
                        "marker": {
                          "colorbar": {
                            "outlinewidth": 0,
                            "ticks": ""
                          }
                        },
                        "type": "scattergeo"
                      }
                    ],
                    "scattergl": [
                      {
                        "marker": {
                          "colorbar": {
                            "outlinewidth": 0,
                            "ticks": ""
                          }
                        },
                        "type": "scattergl"
                      }
                    ],
                    "scattermapbox": [
                      {
                        "marker": {
                          "colorbar": {
                            "outlinewidth": 0,
                            "ticks": ""
                          }
                        },
                        "type": "scattermapbox"
                      }
                    ],
                    "scatterpolar": [
                      {
                        "marker": {
                          "colorbar": {
                            "outlinewidth": 0,
                            "ticks": ""
                          }
                        },
                        "type": "scatterpolar"
                      }
                    ],
                    "scatterpolargl": [
                      {
                        "marker": {
                          "colorbar": {
                            "outlinewidth": 0,
                            "ticks": ""
                          }
                        },
                        "type": "scatterpolargl"
                      }
                    ],
                    "scatterternary": [
                      {
                        "marker": {
                          "colorbar": {
                            "outlinewidth": 0,
                            "ticks": ""
                          }
                        },
                        "type": "scatterternary"
                      }
                    ],
                    "surface": [
                      {
                        "colorbar": {
                          "outlinewidth": 0,
                          "ticks": ""
                        },
                        "colorscale": [
                          [
                            0,
                            "#0d0887"
                          ],
                          [
                            0.1111111111111111,
                            "#46039f"
                          ],
                          [
                            0.2222222222222222,
                            "#7201a8"
                          ],
                          [
                            0.3333333333333333,
                            "#9c179e"
                          ],
                          [
                            0.4444444444444444,
                            "#bd3786"
                          ],
                          [
                            0.5555555555555556,
                            "#d8576b"
                          ],
                          [
                            0.6666666666666666,
                            "#ed7953"
                          ],
                          [
                            0.7777777777777778,
                            "#fb9f3a"
                          ],
                          [
                            0.8888888888888888,
                            "#fdca26"
                          ],
                          [
                            1,
                            "#f0f921"
                          ]
                        ],
                        "type": "surface"
                      }
                    ],
                    "table": [
                      {
                        "cells": {
                          "fill": {
                            "color": "#EBF0F8"
                          },
                          "line": {
                            "color": "white"
                          }
                        },
                        "header": {
                          "fill": {
                            "color": "#C8D4E3"
                          },
                          "line": {
                            "color": "white"
                          }
                        },
                        "type": "table"
                      }
                    ]
                  },
                  "layout": {
                    "annotationdefaults": {
                      "arrowcolor": "#2a3f5f",
                      "arrowhead": 0,
                      "arrowwidth": 1
                    },
                    "autotypenumbers": "strict",
                    "coloraxis": {
                      "colorbar": {
                        "outlinewidth": 0,
                        "ticks": ""
                      }
                    },
                    "colorscale": {
                      "diverging": [
                        [
                          0,
                          "#8e0152"
                        ],
                        [
                          0.1,
                          "#c51b7d"
                        ],
                        [
                          0.2,
                          "#de77ae"
                        ],
                        [
                          0.3,
                          "#f1b6da"
                        ],
                        [
                          0.4,
                          "#fde0ef"
                        ],
                        [
                          0.5,
                          "#f7f7f7"
                        ],
                        [
                          0.6,
                          "#e6f5d0"
                        ],
                        [
                          0.7,
                          "#b8e186"
                        ],
                        [
                          0.8,
                          "#7fbc41"
                        ],
                        [
                          0.9,
                          "#4d9221"
                        ],
                        [
                          1,
                          "#276419"
                        ]
                      ],
                      "sequential": [
                        [
                          0,
                          "#0d0887"
                        ],
                        [
                          0.1111111111111111,
                          "#46039f"
                        ],
                        [
                          0.2222222222222222,
                          "#7201a8"
                        ],
                        [
                          0.3333333333333333,
                          "#9c179e"
                        ],
                        [
                          0.4444444444444444,
                          "#bd3786"
                        ],
                        [
                          0.5555555555555556,
                          "#d8576b"
                        ],
                        [
                          0.6666666666666666,
                          "#ed7953"
                        ],
                        [
                          0.7777777777777778,
                          "#fb9f3a"
                        ],
                        [
                          0.8888888888888888,
                          "#fdca26"
                        ],
                        [
                          1,
                          "#f0f921"
                        ]
                      ],
                      "sequentialminus": [
                        [
                          0,
                          "#0d0887"
                        ],
                        [
                          0.1111111111111111,
                          "#46039f"
                        ],
                        [
                          0.2222222222222222,
                          "#7201a8"
                        ],
                        [
                          0.3333333333333333,
                          "#9c179e"
                        ],
                        [
                          0.4444444444444444,
                          "#bd3786"
                        ],
                        [
                          0.5555555555555556,
                          "#d8576b"
                        ],
                        [
                          0.6666666666666666,
                          "#ed7953"
                        ],
                        [
                          0.7777777777777778,
                          "#fb9f3a"
                        ],
                        [
                          0.8888888888888888,
                          "#fdca26"
                        ],
                        [
                          1,
                          "#f0f921"
                        ]
                      ]
                    },
                    "colorway": [
                      "#636efa",
                      "#EF553B",
                      "#00cc96",
                      "#ab63fa",
                      "#FFA15A",
                      "#19d3f3",
                      "#FF6692",
                      "#B6E880",
                      "#FF97FF",
                      "#FECB52"
                    ],
                    "font": {
                      "color": "#2a3f5f"
                    },
                    "geo": {
                      "bgcolor": "white",
                      "lakecolor": "white",
                      "landcolor": "#E5ECF6",
                      "showlakes": true,
                      "showland": true,
                      "subunitcolor": "white"
                    },
                    "hoverlabel": {
                      "align": "left"
                    },
                    "hovermode": "closest",
                    "mapbox": {
                      "style": "light"
                    },
                    "paper_bgcolor": "white",
                    "plot_bgcolor": "#E5ECF6",
                    "polar": {
                      "angularaxis": {
                        "gridcolor": "white",
                        "linecolor": "white",
                        "ticks": ""
                      },
                      "bgcolor": "#E5ECF6",
                      "radialaxis": {
                        "gridcolor": "white",
                        "linecolor": "white",
                        "ticks": ""
                      }
                    },
                    "scene": {
                      "xaxis": {
                        "backgroundcolor": "#E5ECF6",
                        "gridcolor": "white",
                        "gridwidth": 2,
                        "linecolor": "white",
                        "showbackground": true,
                        "ticks": "",
                        "zerolinecolor": "white"
                      },
                      "yaxis": {
                        "backgroundcolor": "#E5ECF6",
                        "gridcolor": "white",
                        "gridwidth": 2,
                        "linecolor": "white",
                        "showbackground": true,
                        "ticks": "",
                        "zerolinecolor": "white"
                      },
                      "zaxis": {
                        "backgroundcolor": "#E5ECF6",
                        "gridcolor": "white",
                        "gridwidth": 2,
                        "linecolor": "white",
                        "showbackground": true,
                        "ticks": "",
                        "zerolinecolor": "white"
                      }
                    },
                    "shapedefaults": {
                      "line": {
                        "color": "#2a3f5f"
                      }
                    },
                    "ternary": {
                      "aaxis": {
                        "gridcolor": "white",
                        "linecolor": "white",
                        "ticks": ""
                      },
                      "baxis": {
                        "gridcolor": "white",
                        "linecolor": "white",
                        "ticks": ""
                      },
                      "bgcolor": "#E5ECF6",
                      "caxis": {
                        "gridcolor": "white",
                        "linecolor": "white",
                        "ticks": ""
                      }
                    },
                    "title": {
                      "x": 0.05
                    },
                    "xaxis": {
                      "automargin": true,
                      "gridcolor": "white",
                      "linecolor": "white",
                      "ticks": "",
                      "title": {
                        "standoff": 15
                      },
                      "zerolinecolor": "white",
                      "zerolinewidth": 2
                    },
                    "yaxis": {
                      "automargin": true,
                      "gridcolor": "white",
                      "linecolor": "white",
                      "ticks": "",
                      "title": {
                        "standoff": 15
                      },
                      "zerolinecolor": "white",
                      "zerolinewidth": 2
                    }
                  }
                },
                "title": {
                  "text": "Comparison of RMSEPs of All Models"
                },
                "xaxis": {
                  "anchor": "y",
                  "categoryarray": [
                    "xrf_nir",
                    "xrf_vis",
                    "xrf_grs",
                    "nir_vis",
                    "nir_grs",
                    "vis_grs",
                    "xrf_nir_vis",
                    "xrf_nir_grs",
                    "xrf_vis_grs",
                    "nir_vis_grs",
                    "xrf_nir_vis_grs"
                  ],
                  "categoryorder": "array",
                  "domain": [
                    0,
                    1
                  ],
                  "title": {
                    "text": "Combination"
                  }
                },
                "yaxis": {
                  "anchor": "x",
                  "domain": [
                    0,
                    1
                  ],
                  "title": {
                    "text": "RMSEP"
                  }
                }
              }
            }
          },
          "metadata": {},
          "output_type": "display_data"
        }
      ],
      "source": [
        "import plotly.express as px\n",
        "\n",
        "# Extracting the data for the bar chart\n",
        "rmseps = metrics_mid_level['RMSEP']\n",
        "combinations = metrics_mid_level['Combination']\n",
        "\n",
        "# Creating the bar chart\n",
        "fig = px.bar(\n",
        "    metrics_mid_level,\n",
        "    x=combinations,\n",
        "    y=rmseps,\n",
        "    color=combinations,  # Change bar color by the X axis\n",
        "    title='Comparison of RMSEPs of All Models',\n",
        "    labels={'x': 'Combination', 'y': 'RMSEP'}\n",
        ")\n",
        "\n",
        "# Display the plot\n",
        "fig.show()"
      ]
    }
  ],
  "metadata": {
    "accelerator": "TPU",
    "colab": {
      "gpuType": "V28",
      "provenance": []
    },
    "kernelspec": {
      "display_name": "Python 3",
      "name": "python3"
    },
    "language_info": {
      "codemirror_mode": {
        "name": "ipython",
        "version": 3
      },
      "file_extension": ".py",
      "mimetype": "text/x-python",
      "name": "python",
      "nbconvert_exporter": "python",
      "pygments_lexer": "ipython3",
      "version": "3.13.0"
    }
  },
  "nbformat": 4,
  "nbformat_minor": 0
}
